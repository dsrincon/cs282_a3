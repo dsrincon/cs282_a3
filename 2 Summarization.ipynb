{
 "cells": [
  {
   "cell_type": "markdown",
   "metadata": {},
   "source": [
    "# Introduction"
   ]
  },
  {
   "cell_type": "markdown",
   "metadata": {},
   "source": [
    "<center><h3>**Welcome to the Summarization Notebook.**</h3></center>\n",
    "\n",
    "In this assignment, you are going to train a neural network to summarize news articles.\n",
    "Your neural network is going to learn from example, as we provide you with (article, summary) pairs.\n",
    "We provide you with a **toy dataset** made of only articles about police related news.\n",
    "Usual datasets can be 20x larger in size, but we have reduced it for computational purposes.\n",
    "\n",
    "You will do this using a Transformer network, from the __[Attention is all you need](http://papers.nips.cc/paper/7181-attention-is-all-you-need.pdf)__ paper.\n",
    "In this assignment you will:\n",
    "- Learn to process text into sub-word tokens, to avoid fixed vocabulary sizes, and UNK tokens.\n",
    "- Implement the key conceptual blocks of a Transformer.\n",
    "- Use a Transformer to read a news article, and produce a summary.\n",
    "- Perform operations on learned word-vectors to examine what the model has learned.\n",
    "\n",
    "    \n",
    "** Before you start **\n",
    "\n",
    "You should read the Attention is all you need paper.\n",
    "We are providing you with skeleton code for the Transformer, but there will have to implement 5 conceptual blocks of the transformer yourself:\n",
    "-  AttentionQKV: the Query, Key, Value attention mechanism at the center of the Transformer\n",
    "- MultiHeadAttention: the multiple heads that enable each input to attend at many places at once.\n",
    "- PositionEmbedding: the sinusoid-based position embedding of the Transformer.\n",
    "- Encoder & Decoder: The encoder (that reads inputs, such as news articles), the decoder (that produces the output summary, one token at a time)\n",
    "- Full Transformer: piecing it all together."
   ]
  },
  {
   "cell_type": "markdown",
   "metadata": {},
   "source": [
    "You should get the dataset from Google Drive, as instructed in the README of the project.\n",
    "\n",
    "All dataset files should be placed in the `dataset/` folder of this assignment.\n",
    "\n",
    "If you are using Google Colab, follow the instructions to mount your Google Drive onto the remote machine."
   ]
  },
  {
   "cell_type": "markdown",
   "metadata": {},
   "source": [
    "# Library imports"
   ]
  },
  {
   "cell_type": "code",
   "execution_count": null,
   "metadata": {},
   "outputs": [],
   "source": [
    "!pip3 install sentencepiece\n",
    "!pip3 install segtok"
   ]
  },
  {
   "cell_type": "code",
   "execution_count": 1,
   "metadata": {},
   "outputs": [],
   "source": [
    "from transformer import Transformer\n",
    "import sentencepiece as spm\n",
    "import tensorflow as tf\n",
    "import numpy as np\n",
    "import json\n",
    "import capita\n",
    "%load_ext autoreload\n",
    "%autoreload 2\n",
    "\n",
    "root_folder = \"\""
   ]
  },
  {
   "cell_type": "code",
   "execution_count": 2,
   "metadata": {},
   "outputs": [],
   "source": [
    "# Load the word piece model that will be used to tokenize the texts into\n",
    "# word pieces with a vocabulary size of 10000\n",
    "\n",
    "sp = spm.SentencePieceProcessor()\n",
    "sp.Load(root_folder+\"dataset/wp_vocab10000.model\")\n",
    "\n",
    "vocab = [line.split('\\t')[0] for line in open(root_folder+\"dataset/wp_vocab10000.vocab\", \"r\")]\n",
    "pad_index = vocab.index('#')\n",
    "\n",
    "def pad_sequence(numerized, pad_index, to_length):\n",
    "    pad = numerized[:to_length]\n",
    "    padded = pad + [pad_index] * (to_length - len(pad))\n",
    "    mask = [w != pad_index for w in padded]\n",
    "    return padded, mask"
   ]
  },
  {
   "cell_type": "markdown",
   "metadata": {},
   "source": [
    "# Building blocks of a Transformer\n"
   ]
  },
  {
   "cell_type": "markdown",
   "metadata": {},
   "source": [
    "**TODO**:\n",
    "\n",
    "Implement the 5 blocks of the Transformer. In order to finish this section, you should get very small error <1e-7 on each of the 5 checks in this section.\n",
    "\n",
    "\n",
    "The Transformer is split into 3 files: transformer_attention.py, transformer_layers.py and transformer.py\n",
    "\n",
    "Each section below gives you directions and a way to verify your code works properly.\n",
    "\n",
    "You do not need to modify the rest of the code provided, but should read it to understand overall architecture.\n",
    "\n",
    "Our Transformer is built as a Keras model, a standard that is good for you to get accustomed to.\n",
    "\n"
   ]
  },
  {
   "cell_type": "markdown",
   "metadata": {},
   "source": [
    "## (1) Implementing the Query-Key-Value Attention (AttentionQKV)"
   ]
  },
  {
   "cell_type": "markdown",
   "metadata": {},
   "source": [
    "This part is located in AttentionQKV in transformer_attention.py. You must implement the call function of the class.\n",
    "You will need to implement the mathematical procedure of AttentionQKV that is described in the [Attention is all you need paper](https://arxiv.org/pdf/1706.03762.pdf)."
   ]
  },
  {
   "cell_type": "code",
   "execution_count": 3,
   "metadata": {},
   "outputs": [
    {
     "name": "stdout",
     "output_type": "stream",
     "text": [
      "Total error on the output: 2.980232238769531e-07 (should be 0.0 or close to 0.0)\n",
      "Total error on the weights: 1.6670674085617065e-07 (should be 0.0 or close to 0.0)\n"
     ]
    }
   ],
   "source": [
    "from transformer_attention import AttentionQKV\n",
    "\n",
    "batch_size = 2;\n",
    "n_queries = 3;\n",
    "n_keyval = 5;\n",
    "depth_k = 2;\n",
    "depth_v = 2\n",
    "\n",
    "with open(root_folder+\"transformer_checks/attention_qkv_io.json\", \"r\") as f:\n",
    "    io = json.load(f)\n",
    "    queries = np.array(io['queries'])\n",
    "    keys = np.array(io['keys'])\n",
    "    values = np.array(io['values'])\n",
    "    expected_output  = np.array(io['output'])\n",
    "    expected_weights = np.array(io['weights'])\n",
    "\n",
    "attn_qkv = AttentionQKV()\n",
    "queries_h = tf.placeholder(tf.float32,shape=(None, n_queries, depth_k), name=\"queries\")\n",
    "keys_h = tf.placeholder(tf.float32,shape=(None, n_keyval, depth_k), name=\"keys\")\n",
    "values_h = tf.placeholder(tf.float32,shape=(None, n_keyval, depth_v), name=\"values\")\n",
    "\n",
    "attn_output, attn_weights = attn_qkv(queries_h, keys_h, values_h)\n",
    "\n",
    "with tf.Session() as sess:\n",
    "    output, weights = sess.run([attn_output, attn_weights], feed_dict={queries_h: queries, keys_h: keys, values_h: values})\n",
    "\n",
    "print(\"Total error on the output:\",np.sum(np.abs(expected_output-output)), \"(should be 0.0 or close to 0.0)\")\n",
    "print(\"Total error on the weights:\",np.sum(np.abs(expected_weights-weights)), \"(should be 0.0 or close to 0.0)\")"
   ]
  },
  {
   "cell_type": "markdown",
   "metadata": {},
   "source": [
    "## (2) Implementing Multi-head attention"
   ]
  },
  {
   "cell_type": "markdown",
   "metadata": {},
   "source": [
    "This part is located in the class MultiHeadProjection in transformer_attention.py.\n",
    "You must implement the call, \\_split_heads, and \\_combine_heads functions.\n",
    "\n",
    "**Procedure**\n",
    "\n",
    "The objective is to leverage the AttentionQKV class you already wrote.\n",
    "\n",
    "Your input are the queries, keys, values as 3-d tensors (batch_size, sequence_length, feature_size).\n",
    "\n",
    "Split them into 4-d tensors (batch_size, n_heads, sequence_length, new_feature_size). Where:\n",
    "$$feature\\_size = n\\_heads * new_feature\\_size.$$\n",
    "\n",
    "You can then feed the split qkv to your implemented AttentionQKV, which will treat each head as an independent attention function.\n",
    "\n",
    "Then the output must be combined back into a 3-d tensor.\n",
    "You can test the validity of your implementation in the cell below."
   ]
  },
  {
   "cell_type": "code",
   "execution_count": 4,
   "metadata": {},
   "outputs": [
    {
     "name": "stdout",
     "output_type": "stream",
     "text": [
      "Total error on the output: 1.407228410243988e-06 (should be 0.0 or close to 0.0)\n"
     ]
    }
   ],
   "source": [
    "from transformer_attention import MultiHeadProjection\n",
    "tf.reset_default_graph()\n",
    "\n",
    "batch_size = 2;\n",
    "n_queries = 3;\n",
    "n_heads = 4\n",
    "n_keyval = 5;\n",
    "depth_k = 8;\n",
    "depth_v = 8;\n",
    "\n",
    "with open(root_folder+\"transformer_checks/multihead_io.json\", \"r\") as f:\n",
    "    io = json.load(f)\n",
    "    queries = np.array(io['queries'])\n",
    "    keys = np.array(io['keys'])\n",
    "    values = np.array(io['values'])\n",
    "    expected_output  = np.array(io['output'])\n",
    "\n",
    "\n",
    "attn_qkv = MultiHeadProjection(n_heads)\n",
    "queries_h = tf.placeholder(tf.float32,shape=(None, n_queries, depth_k), name=\"queries\")\n",
    "keys_h = tf.placeholder(tf.float32,shape=(None, n_keyval, depth_k), name=\"keys\")\n",
    "values_h = tf.placeholder(tf.float32,shape=(None, n_keyval, depth_v), name=\"values\")\n",
    "\n",
    "multihead_output = attn_qkv((queries_h, keys_h, values_h))\n",
    "\n",
    "with tf.Session() as sess:\n",
    "    output = sess.run(multihead_output, feed_dict={queries_h: queries, keys_h: keys, values_h: values})\n",
    "\n",
    "\n",
    "print(\"Total error on the output:\",np.sum(np.abs(expected_output-output)), \"(should be 0.0 or close to 0.0)\")"
   ]
  },
  {
   "cell_type": "markdown",
   "metadata": {},
   "source": [
    "## (3) Position Embedding "
   ]
  },
  {
   "cell_type": "markdown",
   "metadata": {},
   "source": [
    "You must implement the PositionEmbedding class in transformer.py.\n",
    "\n",
    "\n",
    "The cell below helps you verify the validity of your implementation\n"
   ]
  },
  {
   "cell_type": "code",
   "execution_count": 5,
   "metadata": {},
   "outputs": [
    {
     "name": "stdout",
     "output_type": "stream",
     "text": [
      "Total error on the output: 1.1920928955078125e-07 (should be 0.0 or close to 0.0)\n"
     ]
    }
   ],
   "source": [
    "from transformer import PositionEmbedding\n",
    "\n",
    "batch_size = 2;\n",
    "sequence_length = 3;\n",
    "dim = 4;\n",
    "\n",
    "with open(root_folder+\"transformer_checks/position_embedding_io.json\", \"r\") as f:\n",
    "    io = json.load(f)\n",
    "    inputs = np.array(io['inputs'])\n",
    "    expected_output  = np.array(io['output'])\n",
    "\n",
    "inputs_h = tf.placeholder(tf.float32,shape=(None, sequence_length, dim), name=\"inputs\")\n",
    "pos_emb = PositionEmbedding()\n",
    "output_t = pos_emb(inputs_h)\n",
    "\n",
    "with tf.Session() as sess:\n",
    "    output = sess.run(output_t, feed_dict={inputs_h: inputs})\n",
    "\n",
    "print(\"Total error on the output:\",np.sum(np.abs(expected_output-output)), \"(should be 0.0 or close to 0.0)\")"
   ]
  },
  {
   "cell_type": "markdown",
   "metadata": {},
   "source": [
    "## (4) Transformer Encoder / Transformer Decoder"
   ]
  },
  {
   "cell_type": "markdown",
   "metadata": {},
   "source": [
    "You now have all the blocks needed to implement the Transformer.\n",
    "For this part, you have to fill in 2 classes in the transformer.py file: TransformerEncoderBlock, TransformerDecoderBlock.\n",
    "\n",
    "The code below will verify the accuracy of each block"
   ]
  },
  {
   "cell_type": "code",
   "execution_count": 6,
   "metadata": {},
   "outputs": [
    {
     "name": "stdout",
     "output_type": "stream",
     "text": [
      "WARNING:tensorflow:From /usr/local/lib/python3.5/dist-packages/tensorflow/python/ops/resource_variable_ops.py:435: colocate_with (from tensorflow.python.framework.ops) is deprecated and will be removed in a future version.\n",
      "Instructions for updating:\n",
      "Colocations handled automatically by placer.\n",
      "WARNING:tensorflow:From /usr/local/lib/python3.5/dist-packages/tensorflow/python/keras/layers/core.py:143: calling dropout (from tensorflow.python.ops.nn_ops) with keep_prob is deprecated and will be removed in a future version.\n",
      "Instructions for updating:\n",
      "Please use `rate` instead of `keep_prob`. Rate should be set to `rate = 1 - keep_prob`.\n",
      "WARNING:tensorflow:From /usr/local/lib/python3.5/dist-packages/tensorflow/python/training/saver.py:1266: checkpoint_exists (from tensorflow.python.training.checkpoint_management) is deprecated and will be removed in a future version.\n",
      "Instructions for updating:\n",
      "Use standard file APIs to check for files with this prefix.\n",
      "INFO:tensorflow:Restoring parameters from transformer_checks/transformer_encoder_block\n",
      "Total error on the output: 5.647540092468262e-06 (should be 0.0 or close to 0.0)\n"
     ]
    }
   ],
   "source": [
    "from transformer import TransformerEncoderBlock\n",
    "\n",
    "batch_size = 2\n",
    "sequence_length = 5\n",
    "hidden_size = 6\n",
    "filter_size = 12\n",
    "n_heads = 2\n",
    "\n",
    "with open(root_folder+\"transformer_checks/transformer_encoder_block_io.json\", \"r\") as f:\n",
    "    io = json.load(f)\n",
    "    inputs = np.array(io['inputs'])\n",
    "    expected_output = np.array(io['output'])\n",
    "#print(inputs.shape)\n",
    "tf.reset_default_graph()\n",
    "inputs_h = tf.placeholder(tf.float32,shape=(None, sequence_length, hidden_size), name=\"inputs\")\n",
    "enc_block = TransformerEncoderBlock(n_heads=n_heads, filter_size=filter_size, hidden_size=hidden_size)\n",
    "output_t = enc_block(inputs_h)\n",
    "saver = tf.train.Saver()\n",
    "\n",
    "with tf.Session() as sess:\n",
    "    saver.restore(sess, \"transformer_checks/transformer_encoder_block\")\n",
    "    output = sess.run(output_t, feed_dict={inputs_h: inputs})\n",
    "    \n",
    "    #print(output)\n",
    "print(\"Total error on the output:\",np.sum(np.abs(expected_output-output)), \"(should be 0.0 or close to 0.0)\")"
   ]
  },
  {
   "cell_type": "code",
   "execution_count": 7,
   "metadata": {},
   "outputs": [
    {
     "name": "stdout",
     "output_type": "stream",
     "text": [
      "INFO:tensorflow:Restoring parameters from transformer_checks/transformer_decoder_block\n",
      "Total error on the output: 5.498528480529785e-06 (should be 0.0 or close to 0.0)\n"
     ]
    }
   ],
   "source": [
    "from transformer import TransformerDecoderBlock\n",
    "\n",
    "batch_size = 2\n",
    "encoder_length = 5\n",
    "decoder_length = 3\n",
    "hidden_size = 6\n",
    "filter_size = 12\n",
    "n_heads = 2\n",
    "\n",
    "with open(\"transformer_checks/transformer_decoder_block_io.json\", \"r\") as f:\n",
    "    io = json.load(f)\n",
    "    decoder_inputs = np.array(io['decoder_inputs'])\n",
    "    encoder_output = np.array(io['encoder_output'])\n",
    "    expected_output = np.array(io['expected_output'])\n",
    "\n",
    "tf.reset_default_graph()\n",
    "decoder_inputs_h = tf.placeholder(tf.float32,shape=(None, decoder_length, hidden_size), name=\"dec_inputs\")\n",
    "encoder_output_h = tf.placeholder(tf.float32,shape=(None, encoder_length, hidden_size), name=\"enc_out\")\n",
    "\n",
    "dec_block = TransformerDecoderBlock(n_heads=n_heads, filter_size=filter_size, hidden_size=hidden_size)\n",
    "output_t = dec_block(decoder_inputs_h, encoder_output_h)\n",
    "saver = tf.train.Saver()\n",
    "\n",
    "with tf.Session() as sess:\n",
    "    saver.restore(sess, \"transformer_checks/transformer_decoder_block\")\n",
    "    output = sess.run(output_t, feed_dict={decoder_inputs_h: decoder_inputs, encoder_output_h: encoder_output})\n",
    "    \n",
    "print(\"Total error on the output:\",np.sum(np.abs(expected_output-output)), \"(should be 0.0 or close to 0.0)\")"
   ]
  },
  {
   "cell_type": "markdown",
   "metadata": {},
   "source": [
    "## (5) Transformer"
   ]
  },
  {
   "cell_type": "markdown",
   "metadata": {},
   "source": [
    "This is the final high-level function that pieces it all together.\n",
    "\n",
    "You have to implement the call function of the Transformer class in the `transformer.py` file.\n",
    "\n",
    "The block below verifies your implementation is correct."
   ]
  },
  {
   "cell_type": "code",
   "execution_count": 8,
   "metadata": {},
   "outputs": [
    {
     "name": "stdout",
     "output_type": "stream",
     "text": [
      "INFO:tensorflow:Restoring parameters from transformer_checks/transformer\n",
      "Total error on the output: 7.101893424987793e-05 (should be 0.0 or close to 0.0)\n"
     ]
    }
   ],
   "source": [
    "from transformer import Transformer\n",
    "\n",
    "batch_size = 2\n",
    "vocab_size = 11\n",
    "n_layers = 3\n",
    "n_heads = 4\n",
    "d_model = 8\n",
    "d_filter = 16\n",
    "input_length = 5\n",
    "output_length = 3\n",
    "\n",
    "with open(root_folder+\"transformer_checks/transformer_io.json\", \"r\") as f:\n",
    "    io = json.load(f)\n",
    "    enc_input = np.array(io['enc_input'])\n",
    "    dec_input = np.array(io['dec_input'])\n",
    "    enc_mask = np.array(io['enc_mask'])\n",
    "    dec_mask = np.array(io['dec_mask'])\n",
    "    expected_output = np.array(io['output'])\n",
    "    \n",
    "tf.reset_default_graph()\n",
    "enc_input_h = tf.placeholder(tf.int32,shape=(None, input_length), name=\"enc_inp\")\n",
    "dec_input_h = tf.placeholder(tf.int32,shape=(None, output_length), name=\"dec_inp\")\n",
    "enc_mask_h = tf.placeholder(tf.bool,shape=(None,input_length),name=\"encoder_mask\")\n",
    "dec_mask_h = tf.placeholder(tf.bool, shape=(None,output_length),name=\"decoder_mask\")\n",
    "\n",
    "transfo = Transformer(vocab_size=vocab_size, n_layers=n_layers, n_heads=n_heads, d_model=d_model, d_filter=d_filter)\n",
    "output_t = transfo(enc_input_h, target_sequence=dec_input_h, encoder_mask=enc_mask_h, decoder_mask=dec_mask_h)\n",
    "\n",
    "saver = tf.train.Saver()\n",
    "\n",
    "with tf.Session() as sess:\n",
    "    saver.restore(sess, \"transformer_checks/transformer\")\n",
    "    output = sess.run(output_t, feed_dict={enc_input_h: enc_input, dec_input_h: dec_input, enc_mask_h: enc_mask, dec_mask_h: dec_mask})\n",
    "\n",
    "print(\"Total error on the output:\",np.sum(np.abs(expected_output-output)), \"(should be 0.0 or close to 0.0)\")"
   ]
  },
  {
   "cell_type": "markdown",
   "metadata": {},
   "source": [
    "# Creating a Transformer"
   ]
  },
  {
   "cell_type": "markdown",
   "metadata": {},
   "source": [
    "Now that all the blocks of the Transformer are implemented, we can create a full model with placeholders and a loss.\n",
    "\n",
    "We've helped you with the placeholders, and the loss, as it is similar to the one in the previous assignment."
   ]
  },
  {
   "cell_type": "code",
   "execution_count": 9,
   "metadata": {},
   "outputs": [],
   "source": [
    "# We are giving you the trainer, as it is similar to the one\n",
    "# you created in the Language Modeling assignment.\n",
    "\n",
    "class TransformerTrainer():\n",
    "\n",
    "    def __init__(self, vocab_size, d_model, input_length, output_length, n_layers, d_filter, learning_rate=1e-3):\n",
    "\n",
    "        self.source_sequence = tf.placeholder(tf.int32,shape=(None,input_length), name=\"source_sequence\")\n",
    "        self.target_sequence = tf.placeholder(tf.int32, shape=(None,output_length),name=\"target_sequence\")\n",
    "        self.encoder_mask = tf.placeholder(tf.bool,shape=(None,input_length),name=\"encoder_mask\")\n",
    "        self.decoder_mask = tf.placeholder(tf.bool, shape=(None,output_length),name=\"decoder_mask\")\n",
    "\n",
    "        self.model = Transformer(vocab_size=vocab_size, d_model=d_model, n_layers=n_layers, d_filter=d_filter)\n",
    "\n",
    "        self.decoded_logits = self.model(self.source_sequence, self.target_sequence, encoder_mask=self.encoder_mask, decoder_mask=self.decoder_mask)\n",
    "        self.global_step = tf.train.get_or_create_global_step()\n",
    "        \n",
    "        # Summarization loss\n",
    "        self.loss = tf.losses.sparse_softmax_cross_entropy(self.target_sequence, self.decoded_logits, tf.cast(self.decoder_mask, tf.float32))\n",
    "        self.optimizer = tf.train.AdamOptimizer(learning_rate=learning_rate)\n",
    "        self.train_op = self.optimizer.minimize(self.loss, global_step=self.global_step)\n",
    "        self.saver = tf.train.Saver()"
   ]
  },
  {
   "cell_type": "markdown",
   "metadata": {},
   "source": [
    "We now instantiate the Transformer with our sets of hyperparameters specific to the task of summarization.\n",
    "In summarization, we are going to go from documents with up to 400 words, to documents with up to 100 words.\n",
    "The vocabulary size is set for you, and is of 10,000 words (we are using WordPieces, [here is a paper about subword encoding](http://aclweb.org/anthology/P18-1007), if you are interested)."
   ]
  },
  {
   "cell_type": "code",
   "execution_count": 10,
   "metadata": {},
   "outputs": [
    {
     "name": "stdout",
     "output_type": "stream",
     "text": [
      "WARNING:tensorflow:From /usr/local/lib/python3.5/dist-packages/tensorflow/python/ops/losses/losses_impl.py:209: to_float (from tensorflow.python.ops.math_ops) is deprecated and will be removed in a future version.\n",
      "Instructions for updating:\n",
      "Use tf.cast instead.\n",
      "WARNING:tensorflow:From /usr/local/lib/python3.5/dist-packages/tensorflow/python/ops/math_ops.py:3066: to_int32 (from tensorflow.python.ops.math_ops) is deprecated and will be removed in a future version.\n",
      "Instructions for updating:\n",
      "Use tf.cast instead.\n"
     ]
    }
   ],
   "source": [
    "# Dataset related parameters\n",
    "vocab_size = len(vocab)\n",
    "ilength = 400 # Length of the article\n",
    "olength  = 100 # Length of the summaries\n",
    "\n",
    "# Model related parameters, feel free to modify these.\n",
    "n_layers = 6\n",
    "d_model  = 128\n",
    "d_filter = 416\n",
    "tf.reset_default_graph()\n",
    "model = TransformerTrainer(vocab_size, d_model, ilength, olength, n_layers, d_filter)"
   ]
  },
  {
   "cell_type": "markdown",
   "metadata": {},
   "source": [
    "# Training the model"
   ]
  },
  {
   "cell_type": "markdown",
   "metadata": {},
   "source": [
    "Your objective is to train the Language on the dataset you are provided to reach a **validation loss <= 4.50**\n",
    "\n",
    "Careful: we will be testing this loss on an unreleased test set, so make sure to evaluate properly on a validation set and not overfit.\n",
    "\n",
    "You must save the model you want us to test under: models/final_transformer_summarization (the .index, .meta and .data files)\n",
    "\n",
    "**Advice**:\n",
    "- It should be possible to attain validation loss <= 4.50 with the model dimensions we've specified (n_layers=6, d_model=104, d_filter=416), but you can tune these hyperparameters. Increasing d_model will yield better model, at the cost of longer training time.\n",
    "- You should try tuning the learning rate, as well as what optimizer you use.\n",
    "- You might need to train for a few (up to 2 hours) to obtain our expected loss. Remember to tune your hyperparameters first, once you find ones that work well, let it train for longer.\n",
    "\n",
    "**Dataset**: as in the previous notebook, make sure the dataset files are in the `dataset` folder. These can be found on the Google Drive.\n"
   ]
  },
  {
   "cell_type": "code",
   "execution_count": 11,
   "metadata": {},
   "outputs": [
    {
     "data": {
      "text/plain": [
       "(61055, 1558)"
      ]
     },
     "execution_count": 11,
     "metadata": {},
     "output_type": "execute_result"
    }
   ],
   "source": [
    "with open(root_folder+\"dataset/summarization_dataset_preprocessed.json\", \"r\") as f:\n",
    "\n",
    "    dataset = json.load(f)\n",
    "\n",
    "# We load the dataset, and split it into 2 sub-datasets based on if they are training or validation.\n",
    "# Feel free to split this dataset another way, but remember, a validation set is important, to have an idea of \n",
    "# the amount of overfitting that has occurred!\n",
    "\n",
    "d_train = [d for d in dataset if d['cut'] == 'training']\n",
    "d_valid = [d for d in dataset if d['cut'] == 'evaluation']\n",
    "\n",
    "len(d_train), len(d_valid)"
   ]
  },
  {
   "cell_type": "code",
   "execution_count": 30,
   "metadata": {},
   "outputs": [
    {
     "name": "stdout",
     "output_type": "stream",
     "text": [
      "Tbilisi, Georgia (CNN)Police have shot and killed a white tiger that killed a man Wednesday in Tbilisi, Georgia, a Ministry of Internal Affairs representative said, after severe flooding allowed hundreds of wild animals to escape the city zoo. \n",
      "The tiger attack happened at a warehouse in the city center. The animal had been unaccounted for since the weekend floods destroyed the zoo premises.\n",
      "The man killed, who was 43, worked in a company based in the warehouse, the Ministry of Internal Affairs said. Doctors said he was attacked in the throat and died before reaching the hospital. \n",
      "Experts are still searching the warehouse, the ministry said, adding that earlier reports that the tiger had injured a second man were unfounded. \n",
      "The zoo administration said Wednesday that another tiger was still missing. It was unable to confirm if the creature was dead or had escaped alive.\n",
      "Georgian Prime Minister Irakli Garibashvili apologized to the public, saying he had been misinformed by the zoo's management when he'd previously said there were no more dangerous animals on the run.\n",
      "City residents were urged to stay indoors for their own safety in the immediate aftermath of the floods. Volunteers have since been helping city workers with the cleanup operation.\n",
      "At least 19 people died in the flooding, according to Civil Georgia, a news website run by the nongovernmental organization United Nations Association of Georgia. Six more remained missing, it said Tuesday, citing the State Security and Crisis Management Council.\n",
      "Meanwhile, the zoo lost about half of its 600 animals, including lions, tigers, bears and wolves, in the natural disaster. \n",
      "Some animals have since been recaptured, Civil Georgia reported. Others died in the floods or have been killed by police as they scour the streets for escapees.\n",
      "Russian state news outlet RT.com  that an African penguin had made it 60 kilometers (37 miles) downriver from Tbilisi before being caught alive in a dragnet on the border with Azerbaijan. \n",
      "Video from the city showed a large crocodile being restrained by rescuers, as well as a hippopotamus standing in floodwaters, looking confused.\n",
      "The latter was eventually cornered in a city square before being tranquilized and recaptured.\n",
      "One terrified bear escaped the flood by perching on a window ledge.\n",
      "Video footage also showed devastation across swaths of the Georgian capital, where flash floods swept away roads, at least one house and many trees. The corpses of dead animals could be seen amid the wreckage.\n",
      "The problems began before midnight Saturday when heavy rainfall turned the Vere River, usually little more than a stream through the center of Tbilisi, into a raging torrent, according to Civil Georgia.\n",
      "Images on Tbilisi City Hall's Facebook page showed roads washed out, hillsides collapsed and vehicles tossed about like toys. Rescue workers carried people on their shoulders through waist-high water.\n",
      "Garibashvili extended his condolences Tuesday to the families of those killed in the flooding.\n",
      "He also proposed the creation of a park in the zoo premises to honor those lost. \"It will be a park of solidarity, a symbol of our unity, selflessness, and mutual support,\" he said in a statement on his website.\n",
      "President Georgi Margvelashvili earlier said the capital's mayoral office would help those who had lost out financially as a result of the floods.\n",
      "\"The situation is difficult, but it can be handled except for the fact that we cannot bring back those who died,\" he said.\n",
      "According to the World Wildlife Fund, as few as 3,200 tigers exist in the wild today.\n",
      "\n",
      "Journalist Eka Kadagishvili reported from Tbilisi, and Laura Smith-Spark wrote from London. CNN's Kimberly Hutcherson contributed to this report.\n",
      "=======================\n",
      "=======================\n",
      "Police have shot dead a tiger that killed a man in Tbilisi, Georgia, a government official says, after zoo animals escaped in weekend flooding.\n"
     ]
    }
   ],
   "source": [
    "# An example (article, summary) pair in the training data:\n",
    "\n",
    "print(d_train[145]['story'])\n",
    "print(\"=======================\\n=======================\")\n",
    "print(d_train[145]['summary'])"
   ]
  },
  {
   "cell_type": "markdown",
   "metadata": {},
   "source": [
    "Similarly to the previous assignment, we create a function to get a random batch to train on, given a dataset."
   ]
  },
  {
   "cell_type": "code",
   "execution_count": 12,
   "metadata": {},
   "outputs": [],
   "source": [
    "def build_batch(dataset, batch_size):\n",
    "    indices = list(np.random.randint(0, len(dataset), size=batch_size))\n",
    "    \n",
    "    batch = [dataset[i] for i in indices]\n",
    "    batch_input = np.array([a['input'] for a in batch])\n",
    "    batch_input_mask = np.array([a['input_mask'] for a in batch])\n",
    "    batch_output = np.array([a['output'] for a in batch])\n",
    "    batch_output_mask = np.array([a['output_mask'] for a in batch])\n",
    "    \n",
    "    return batch_input, batch_input_mask, batch_output, batch_output_mask"
   ]
  },
  {
   "cell_type": "code",
   "execution_count": 26,
   "metadata": {},
   "outputs": [
    {
     "name": "stdout",
     "output_type": "stream",
     "text": [
      "INFO:tensorflow:Restoring parameters from models/improve2_transformer_summarization\n",
      "-----Epoch: 0\n",
      "Iteration:  0 ----  Train Loss: 4.370 ----  Validation Loss: 4.486720085144043\n",
      "Iteration:  1 ----  Train Loss: 4.381 ----  Validation Loss: 4.487431526184082\n",
      "Iteration:  2 ----  Train Loss: 4.369 ----  Validation Loss: 4.486867427825928\n",
      "Iteration:  3 ----  Train Loss: 4.410 ----  Validation Loss: 4.486999034881592\n",
      "Iteration:  4 ----  Train Loss: 4.401 ----  Validation Loss: 4.489770412445068\n",
      "Iteration:  5 ----  Train Loss: 4.427 ----  Validation Loss: 4.487963676452637\n",
      "Iteration:  6 ----  Train Loss: 4.398 ----  Validation Loss: 4.485219955444336\n",
      "Iteration:  7 ----  Train Loss: 4.403 ----  Validation Loss: 4.487908363342285\n",
      "Iteration:  8 ----  Train Loss: 4.400 ----  Validation Loss: 4.4847612380981445\n",
      "Iteration:  9 ----  Train Loss: 4.440 ----  Validation Loss: 4.484141826629639\n",
      "Iteration:  10 ----  Train Loss: 4.370 ----  Validation Loss: 4.484218120574951\n",
      "Iteration:  11 ----  Train Loss: 4.355 ----  Validation Loss: 4.485227108001709\n",
      "Iteration:  12 ----  Train Loss: 4.387 ----  Validation Loss: 4.4845805168151855\n",
      "Iteration:  13 ----  Train Loss: 4.342 ----  Validation Loss: 4.483432769775391\n",
      "Iteration:  14 ----  Train Loss: 4.392 ----  Validation Loss: 4.48343563079834\n",
      "Iteration:  15 ----  Train Loss: 4.346 ----  Validation Loss: 4.48246431350708\n",
      "Iteration:  16 ----  Train Loss: 4.385 ----  Validation Loss: 4.4827399253845215\n",
      "Iteration:  17 ----  Train Loss: 4.407 ----  Validation Loss: 4.482958793640137\n",
      "Iteration:  18 ----  Train Loss: 4.392 ----  Validation Loss: 4.48313045501709\n",
      "Iteration:  19 ----  Train Loss: 4.383 ----  Validation Loss: 4.483084678649902\n",
      "Iteration:  20 ----  Train Loss: 4.397 ----  Validation Loss: 4.482154369354248\n",
      "Iteration:  21 ----  Train Loss: 4.408 ----  Validation Loss: 4.483490467071533\n",
      "Iteration:  22 ----  Train Loss: 4.391 ----  Validation Loss: 4.482118129730225\n",
      "Iteration:  23 ----  Train Loss: 4.482 ----  Validation Loss: 4.48137092590332\n",
      "Iteration:  24 ----  Train Loss: 4.364 ----  Validation Loss: 4.484026908874512\n",
      "Iteration:  25 ----  Train Loss: 4.418 ----  Validation Loss: 4.482956409454346\n",
      "Iteration:  26 ----  Train Loss: 4.376 ----  Validation Loss: 4.481452465057373\n",
      "Iteration:  27 ----  Train Loss: 4.407 ----  Validation Loss: 4.485683441162109\n",
      "Iteration:  28 ----  Train Loss: 4.404 ----  Validation Loss: 4.481565952301025\n",
      "Iteration:  29 ----  Train Loss: 4.430 ----  Validation Loss: 4.481046676635742\n",
      "Iteration:  30 ----  Train Loss: 4.376 ----  Validation Loss: 4.482639789581299\n",
      "Iteration:  31 ----  Train Loss: 4.386 ----  Validation Loss: 4.47983980178833\n",
      "Iteration:  32 ----  Train Loss: 4.407 ----  Validation Loss: 4.482396125793457\n",
      "Iteration:  33 ----  Train Loss: 4.401 ----  Validation Loss: 4.480709552764893\n",
      "Iteration:  34 ----  Train Loss: 4.378 ----  Validation Loss: 4.481096267700195\n",
      "Iteration:  35 ----  Train Loss: 4.352 ----  Validation Loss: 4.480140209197998\n",
      "Iteration:  36 ----  Train Loss: 4.347 ----  Validation Loss: 4.479043483734131\n",
      "Iteration:  37 ----  Train Loss: 4.360 ----  Validation Loss: 4.482768535614014\n",
      "Iteration:  38 ----  Train Loss: 4.402 ----  Validation Loss: 4.478850364685059\n",
      "Iteration:  39 ----  Train Loss: 4.372 ----  Validation Loss: 4.479444980621338\n",
      "Iteration:  40 ----  Train Loss: 4.374 ----  Validation Loss: 4.480184555053711\n",
      "Iteration:  41 ----  Train Loss: 4.415 ----  Validation Loss: 4.478611946105957\n",
      "Iteration:  42 ----  Train Loss: 4.387 ----  Validation Loss: 4.478484630584717\n",
      "Iteration:  43 ----  Train Loss: 4.384 ----  Validation Loss: 4.478023052215576\n",
      "Iteration:  44 ----  Train Loss: 4.368 ----  Validation Loss: 4.478283882141113\n",
      "Iteration:  45 ----  Train Loss: 4.367 ----  Validation Loss: 4.477316856384277\n",
      "Iteration:  46 ----  Train Loss: 4.398 ----  Validation Loss: 4.478021144866943\n",
      "Iteration:  47 ----  Train Loss: 4.421 ----  Validation Loss: 4.478613376617432\n",
      "Iteration:  48 ----  Train Loss: 4.430 ----  Validation Loss: 4.479363918304443\n",
      "Iteration:  49 ----  Train Loss: 4.398 ----  Validation Loss: 4.4777069091796875\n",
      "Iteration:  50 ----  Train Loss: 4.395 ----  Validation Loss: 4.477200508117676\n",
      "Iteration:  51 ----  Train Loss: 4.368 ----  Validation Loss: 4.480058670043945\n",
      "Iteration:  52 ----  Train Loss: 4.381 ----  Validation Loss: 4.476424694061279\n",
      "Iteration:  53 ----  Train Loss: 4.392 ----  Validation Loss: 4.476343154907227\n",
      "Iteration:  54 ----  Train Loss: 4.322 ----  Validation Loss: 4.475435256958008\n",
      "Iteration:  55 ----  Train Loss: 4.390 ----  Validation Loss: 4.475057125091553\n",
      "Iteration:  56 ----  Train Loss: 4.375 ----  Validation Loss: 4.47536039352417\n",
      "Iteration:  57 ----  Train Loss: 4.367 ----  Validation Loss: 4.474818229675293\n",
      "Iteration:  58 ----  Train Loss: 4.400 ----  Validation Loss: 4.476616382598877\n",
      "-----Epoch: 1\n",
      "Iteration:  0 ----  Train Loss: 4.375 ----  Validation Loss: 4.474108695983887\n",
      "Iteration:  1 ----  Train Loss: 4.317 ----  Validation Loss: 4.475038051605225\n",
      "Iteration:  2 ----  Train Loss: 4.371 ----  Validation Loss: 4.474977493286133\n",
      "Iteration:  3 ----  Train Loss: 4.390 ----  Validation Loss: 4.475290298461914\n",
      "Iteration:  4 ----  Train Loss: 4.376 ----  Validation Loss: 4.473844051361084\n",
      "Iteration:  5 ----  Train Loss: 4.387 ----  Validation Loss: 4.473371505737305\n",
      "Iteration:  6 ----  Train Loss: 4.386 ----  Validation Loss: 4.473332405090332\n",
      "Iteration:  7 ----  Train Loss: 4.385 ----  Validation Loss: 4.472593307495117\n",
      "Iteration:  8 ----  Train Loss: 4.384 ----  Validation Loss: 4.472414970397949\n",
      "Iteration:  9 ----  Train Loss: 4.385 ----  Validation Loss: 4.472182750701904\n",
      "Iteration:  10 ----  Train Loss: 4.388 ----  Validation Loss: 4.4723429679870605\n",
      "Iteration:  11 ----  Train Loss: 4.368 ----  Validation Loss: 4.472431659698486\n",
      "Iteration:  12 ----  Train Loss: 4.356 ----  Validation Loss: 4.47230863571167\n",
      "Iteration:  13 ----  Train Loss: 4.410 ----  Validation Loss: 4.470710277557373\n",
      "Iteration:  14 ----  Train Loss: 4.406 ----  Validation Loss: 4.471212863922119\n",
      "Iteration:  15 ----  Train Loss: 4.359 ----  Validation Loss: 4.469511032104492\n",
      "Iteration:  16 ----  Train Loss: 4.346 ----  Validation Loss: 4.469235897064209\n",
      "Iteration:  17 ----  Train Loss: 4.368 ----  Validation Loss: 4.470118045806885\n",
      "Iteration:  18 ----  Train Loss: 4.430 ----  Validation Loss: 4.468729496002197\n",
      "Iteration:  19 ----  Train Loss: 4.408 ----  Validation Loss: 4.468723297119141\n",
      "Iteration:  20 ----  Train Loss: 4.352 ----  Validation Loss: 4.471538066864014\n",
      "Iteration:  21 ----  Train Loss: 4.444 ----  Validation Loss: 4.468387126922607\n",
      "Iteration:  22 ----  Train Loss: 4.371 ----  Validation Loss: 4.467632293701172\n",
      "Iteration:  23 ----  Train Loss: 4.399 ----  Validation Loss: 4.472583770751953\n",
      "Iteration:  24 ----  Train Loss: 4.383 ----  Validation Loss: 4.4706501960754395\n",
      "Iteration:  25 ----  Train Loss: 4.366 ----  Validation Loss: 4.469119071960449\n",
      "Iteration:  26 ----  Train Loss: 4.380 ----  Validation Loss: 4.4717116355896\n",
      "Iteration:  27 ----  Train Loss: 4.365 ----  Validation Loss: 4.467379570007324\n",
      "Iteration:  28 ----  Train Loss: 4.383 ----  Validation Loss: 4.469754695892334\n",
      "Iteration:  29 ----  Train Loss: 4.375 ----  Validation Loss: 4.4714250564575195\n",
      "Iteration:  30 ----  Train Loss: 4.348 ----  Validation Loss: 4.4682464599609375\n",
      "Iteration:  31 ----  Train Loss: 4.400 ----  Validation Loss: 4.470477104187012\n",
      "Iteration:  32 ----  Train Loss: 4.423 ----  Validation Loss: 4.468610763549805\n",
      "Iteration:  33 ----  Train Loss: 4.369 ----  Validation Loss: 4.467539310455322\n",
      "Iteration:  34 ----  Train Loss: 4.395 ----  Validation Loss: 4.465864181518555\n",
      "Iteration:  35 ----  Train Loss: 4.380 ----  Validation Loss: 4.465267181396484\n",
      "Iteration:  36 ----  Train Loss: 4.371 ----  Validation Loss: 4.466194152832031\n",
      "Iteration:  37 ----  Train Loss: 4.388 ----  Validation Loss: 4.464968204498291\n",
      "Iteration:  38 ----  Train Loss: 4.362 ----  Validation Loss: 4.466602802276611\n",
      "Iteration:  39 ----  Train Loss: 4.356 ----  Validation Loss: 4.466401100158691\n",
      "Iteration:  40 ----  Train Loss: 4.392 ----  Validation Loss: 4.464624881744385\n",
      "Iteration:  41 ----  Train Loss: 4.404 ----  Validation Loss: 4.464150905609131\n",
      "Iteration:  42 ----  Train Loss: 4.346 ----  Validation Loss: 4.46576452255249\n"
     ]
    },
    {
     "name": "stdout",
     "output_type": "stream",
     "text": [
      "Iteration:  43 ----  Train Loss: 4.399 ----  Validation Loss: 4.465506076812744\n",
      "Iteration:  44 ----  Train Loss: 4.382 ----  Validation Loss: 4.463617324829102\n",
      "Iteration:  45 ----  Train Loss: 4.351 ----  Validation Loss: 4.4634504318237305\n",
      "Iteration:  46 ----  Train Loss: 4.314 ----  Validation Loss: 4.463717937469482\n",
      "Iteration:  47 ----  Train Loss: 4.319 ----  Validation Loss: 4.464944362640381\n",
      "Iteration:  48 ----  Train Loss: 4.390 ----  Validation Loss: 4.465096950531006\n",
      "Iteration:  49 ----  Train Loss: 4.367 ----  Validation Loss: 4.464313983917236\n",
      "Iteration:  50 ----  Train Loss: 4.381 ----  Validation Loss: 4.463220596313477\n",
      "Iteration:  51 ----  Train Loss: 4.397 ----  Validation Loss: 4.462160110473633\n",
      "Iteration:  52 ----  Train Loss: 4.381 ----  Validation Loss: 4.46219539642334\n",
      "Iteration:  53 ----  Train Loss: 4.332 ----  Validation Loss: 4.463351249694824\n",
      "Iteration:  54 ----  Train Loss: 4.373 ----  Validation Loss: 4.464621067047119\n",
      "Iteration:  55 ----  Train Loss: 4.370 ----  Validation Loss: 4.462497711181641\n",
      "Iteration:  56 ----  Train Loss: 4.364 ----  Validation Loss: 4.461432456970215\n",
      "Iteration:  57 ----  Train Loss: 4.388 ----  Validation Loss: 4.462455749511719\n",
      "Iteration:  58 ----  Train Loss: 4.358 ----  Validation Loss: 4.4634108543396\n",
      "-----Epoch: 2\n",
      "Iteration:  0 ----  Train Loss: 4.370 ----  Validation Loss: 4.462270259857178\n",
      "Iteration:  1 ----  Train Loss: 4.370 ----  Validation Loss: 4.462373733520508\n",
      "Iteration:  2 ----  Train Loss: 4.359 ----  Validation Loss: 4.460690021514893\n",
      "Iteration:  3 ----  Train Loss: 4.355 ----  Validation Loss: 4.459784030914307\n",
      "Iteration:  4 ----  Train Loss: 4.363 ----  Validation Loss: 4.462514400482178\n",
      "Iteration:  5 ----  Train Loss: 4.331 ----  Validation Loss: 4.46016788482666\n",
      "Iteration:  6 ----  Train Loss: 4.359 ----  Validation Loss: 4.460442543029785\n",
      "Iteration:  7 ----  Train Loss: 4.363 ----  Validation Loss: 4.461755752563477\n",
      "Iteration:  8 ----  Train Loss: 4.356 ----  Validation Loss: 4.459939002990723\n",
      "Iteration:  9 ----  Train Loss: 4.353 ----  Validation Loss: 4.461555004119873\n",
      "Iteration:  10 ----  Train Loss: 4.359 ----  Validation Loss: 4.461849689483643\n",
      "Iteration:  11 ----  Train Loss: 4.406 ----  Validation Loss: 4.459299564361572\n",
      "Iteration:  12 ----  Train Loss: 4.381 ----  Validation Loss: 4.458810806274414\n",
      "Iteration:  13 ----  Train Loss: 4.394 ----  Validation Loss: 4.46082067489624\n",
      "Iteration:  14 ----  Train Loss: 4.335 ----  Validation Loss: 4.460954666137695\n",
      "Iteration:  15 ----  Train Loss: 4.410 ----  Validation Loss: 4.458102703094482\n",
      "Iteration:  16 ----  Train Loss: 4.368 ----  Validation Loss: 4.4580488204956055\n",
      "Iteration:  17 ----  Train Loss: 4.360 ----  Validation Loss: 4.46319055557251\n",
      "Iteration:  18 ----  Train Loss: 4.358 ----  Validation Loss: 4.459343910217285\n",
      "Iteration:  19 ----  Train Loss: 4.338 ----  Validation Loss: 4.458345413208008\n",
      "Iteration:  20 ----  Train Loss: 4.376 ----  Validation Loss: 4.465800762176514\n",
      "Iteration:  21 ----  Train Loss: 4.342 ----  Validation Loss: 4.460538864135742\n",
      "Iteration:  22 ----  Train Loss: 4.381 ----  Validation Loss: 4.459208965301514\n",
      "Iteration:  23 ----  Train Loss: 4.365 ----  Validation Loss: 4.465463161468506\n",
      "Iteration:  24 ----  Train Loss: 4.362 ----  Validation Loss: 4.464696884155273\n",
      "Iteration:  25 ----  Train Loss: 4.373 ----  Validation Loss: 4.461326599121094\n",
      "Iteration:  26 ----  Train Loss: 4.325 ----  Validation Loss: 4.459205150604248\n",
      "Iteration:  27 ----  Train Loss: 4.352 ----  Validation Loss: 4.465779781341553\n",
      "Iteration:  28 ----  Train Loss: 4.389 ----  Validation Loss: 4.456498146057129\n",
      "Iteration:  29 ----  Train Loss: 4.353 ----  Validation Loss: 4.460022449493408\n",
      "Iteration:  30 ----  Train Loss: 4.382 ----  Validation Loss: 4.455641269683838\n",
      "Iteration:  31 ----  Train Loss: 4.363 ----  Validation Loss: 4.461822986602783\n",
      "Iteration:  32 ----  Train Loss: 4.377 ----  Validation Loss: 4.454575538635254\n",
      "Iteration:  33 ----  Train Loss: 4.353 ----  Validation Loss: 4.458304405212402\n",
      "Iteration:  34 ----  Train Loss: 4.334 ----  Validation Loss: 4.454606533050537\n",
      "Iteration:  35 ----  Train Loss: 4.390 ----  Validation Loss: 4.4570631980896\n",
      "Iteration:  36 ----  Train Loss: 4.347 ----  Validation Loss: 4.45528507232666\n",
      "Iteration:  37 ----  Train Loss: 4.348 ----  Validation Loss: 4.454736232757568\n",
      "Iteration:  38 ----  Train Loss: 4.389 ----  Validation Loss: 4.455218315124512\n",
      "Iteration:  39 ----  Train Loss: 4.372 ----  Validation Loss: 4.457619667053223\n",
      "Iteration:  40 ----  Train Loss: 4.375 ----  Validation Loss: 4.4532551765441895\n",
      "Iteration:  41 ----  Train Loss: 4.356 ----  Validation Loss: 4.454251289367676\n",
      "Iteration:  42 ----  Train Loss: 4.358 ----  Validation Loss: 4.4536309242248535\n",
      "Iteration:  43 ----  Train Loss: 4.365 ----  Validation Loss: 4.454780101776123\n",
      "Iteration:  44 ----  Train Loss: 4.355 ----  Validation Loss: 4.452625751495361\n",
      "Iteration:  45 ----  Train Loss: 4.315 ----  Validation Loss: 4.452618598937988\n",
      "Iteration:  46 ----  Train Loss: 4.338 ----  Validation Loss: 4.453583240509033\n",
      "Iteration:  47 ----  Train Loss: 4.359 ----  Validation Loss: 4.453862190246582\n",
      "Iteration:  48 ----  Train Loss: 4.371 ----  Validation Loss: 4.452591419219971\n",
      "Iteration:  49 ----  Train Loss: 4.284 ----  Validation Loss: 4.45332145690918\n",
      "Iteration:  50 ----  Train Loss: 4.338 ----  Validation Loss: 4.453177452087402\n",
      "Iteration:  51 ----  Train Loss: 4.348 ----  Validation Loss: 4.4548115730285645\n",
      "Iteration:  52 ----  Train Loss: 4.305 ----  Validation Loss: 4.453059196472168\n",
      "Iteration:  53 ----  Train Loss: 4.328 ----  Validation Loss: 4.453084468841553\n",
      "Iteration:  54 ----  Train Loss: 4.340 ----  Validation Loss: 4.453449726104736\n",
      "Iteration:  55 ----  Train Loss: 4.336 ----  Validation Loss: 4.452132225036621\n",
      "Iteration:  56 ----  Train Loss: 4.344 ----  Validation Loss: 4.450225353240967\n",
      "Iteration:  57 ----  Train Loss: 4.314 ----  Validation Loss: 4.452524185180664\n",
      "Iteration:  58 ----  Train Loss: 4.422 ----  Validation Loss: 4.448545932769775\n",
      "-----Epoch: 3\n",
      "Iteration:  0 ----  Train Loss: 4.339 ----  Validation Loss: 4.449996471405029\n",
      "Iteration:  1 ----  Train Loss: 4.402 ----  Validation Loss: 4.450490474700928\n",
      "Iteration:  2 ----  Train Loss: 4.375 ----  Validation Loss: 4.451949596405029\n",
      "Iteration:  3 ----  Train Loss: 4.361 ----  Validation Loss: 4.449647903442383\n",
      "Iteration:  4 ----  Train Loss: 4.358 ----  Validation Loss: 4.447897911071777\n",
      "Iteration:  5 ----  Train Loss: 4.335 ----  Validation Loss: 4.4494309425354\n",
      "Iteration:  6 ----  Train Loss: 4.363 ----  Validation Loss: 4.45032262802124\n",
      "Iteration:  7 ----  Train Loss: 4.369 ----  Validation Loss: 4.450390815734863\n",
      "Iteration:  8 ----  Train Loss: 4.338 ----  Validation Loss: 4.452826023101807\n",
      "Iteration:  9 ----  Train Loss: 4.340 ----  Validation Loss: 4.450557708740234\n",
      "Iteration:  10 ----  Train Loss: 4.376 ----  Validation Loss: 4.4492597579956055\n",
      "Iteration:  11 ----  Train Loss: 4.345 ----  Validation Loss: 4.449195861816406\n",
      "Iteration:  12 ----  Train Loss: 4.354 ----  Validation Loss: 4.449249744415283\n",
      "Iteration:  13 ----  Train Loss: 4.358 ----  Validation Loss: 4.447668552398682\n",
      "Iteration:  14 ----  Train Loss: 4.362 ----  Validation Loss: 4.448055267333984\n",
      "Iteration:  15 ----  Train Loss: 4.330 ----  Validation Loss: 4.445743560791016\n",
      "Iteration:  16 ----  Train Loss: 4.347 ----  Validation Loss: 4.448885440826416\n",
      "Iteration:  17 ----  Train Loss: 4.335 ----  Validation Loss: 4.44758415222168\n",
      "Iteration:  18 ----  Train Loss: 4.377 ----  Validation Loss: 4.446699142456055\n",
      "Iteration:  19 ----  Train Loss: 4.319 ----  Validation Loss: 4.445010662078857\n",
      "Iteration:  20 ----  Train Loss: 4.364 ----  Validation Loss: 4.446089267730713\n",
      "Iteration:  21 ----  Train Loss: 4.314 ----  Validation Loss: 4.44589900970459\n",
      "Iteration:  22 ----  Train Loss: 4.327 ----  Validation Loss: 4.44613790512085\n",
      "Iteration:  23 ----  Train Loss: 4.334 ----  Validation Loss: 4.447399616241455\n",
      "Iteration:  24 ----  Train Loss: 4.348 ----  Validation Loss: 4.446145057678223\n",
      "Iteration:  25 ----  Train Loss: 4.298 ----  Validation Loss: 4.44478702545166\n",
      "Iteration:  26 ----  Train Loss: 4.343 ----  Validation Loss: 4.443902969360352\n",
      "Iteration:  27 ----  Train Loss: 4.324 ----  Validation Loss: 4.444589614868164\n"
     ]
    },
    {
     "name": "stdout",
     "output_type": "stream",
     "text": [
      "Iteration:  28 ----  Train Loss: 4.381 ----  Validation Loss: 4.446091175079346\n",
      "Iteration:  29 ----  Train Loss: 4.349 ----  Validation Loss: 4.447304725646973\n",
      "Iteration:  30 ----  Train Loss: 4.327 ----  Validation Loss: 4.445067405700684\n",
      "Iteration:  31 ----  Train Loss: 4.367 ----  Validation Loss: 4.444700717926025\n",
      "Iteration:  32 ----  Train Loss: 4.324 ----  Validation Loss: 4.444462299346924\n",
      "Iteration:  33 ----  Train Loss: 4.334 ----  Validation Loss: 4.444071292877197\n",
      "Iteration:  34 ----  Train Loss: 4.286 ----  Validation Loss: 4.446003437042236\n",
      "Iteration:  35 ----  Train Loss: 4.341 ----  Validation Loss: 4.444443702697754\n",
      "Iteration:  36 ----  Train Loss: 4.330 ----  Validation Loss: 4.442737102508545\n",
      "Iteration:  37 ----  Train Loss: 4.346 ----  Validation Loss: 4.442910194396973\n",
      "Iteration:  38 ----  Train Loss: 4.353 ----  Validation Loss: 4.442513465881348\n",
      "Iteration:  39 ----  Train Loss: 4.311 ----  Validation Loss: 4.442912578582764\n",
      "Iteration:  40 ----  Train Loss: 4.321 ----  Validation Loss: 4.44534158706665\n",
      "Iteration:  41 ----  Train Loss: 4.354 ----  Validation Loss: 4.446206092834473\n",
      "Iteration:  42 ----  Train Loss: 4.326 ----  Validation Loss: 4.440718650817871\n",
      "Iteration:  43 ----  Train Loss: 4.362 ----  Validation Loss: 4.441047668457031\n",
      "Iteration:  44 ----  Train Loss: 4.360 ----  Validation Loss: 4.442297458648682\n",
      "Iteration:  45 ----  Train Loss: 4.332 ----  Validation Loss: 4.442867755889893\n",
      "Iteration:  46 ----  Train Loss: 4.322 ----  Validation Loss: 4.440197944641113\n",
      "Iteration:  47 ----  Train Loss: 4.337 ----  Validation Loss: 4.442495822906494\n",
      "Iteration:  48 ----  Train Loss: 4.361 ----  Validation Loss: 4.440324783325195\n",
      "Iteration:  49 ----  Train Loss: 4.320 ----  Validation Loss: 4.440831184387207\n",
      "Iteration:  50 ----  Train Loss: 4.327 ----  Validation Loss: 4.44143533706665\n",
      "Iteration:  51 ----  Train Loss: 4.342 ----  Validation Loss: 4.442819595336914\n",
      "Iteration:  52 ----  Train Loss: 4.350 ----  Validation Loss: 4.440254211425781\n",
      "Iteration:  53 ----  Train Loss: 4.286 ----  Validation Loss: 4.441729545593262\n",
      "Iteration:  54 ----  Train Loss: 4.348 ----  Validation Loss: 4.440627098083496\n",
      "Iteration:  55 ----  Train Loss: 4.294 ----  Validation Loss: 4.440735816955566\n",
      "Iteration:  56 ----  Train Loss: 4.343 ----  Validation Loss: 4.4407196044921875\n",
      "Iteration:  57 ----  Train Loss: 4.339 ----  Validation Loss: 4.442173004150391\n",
      "Iteration:  58 ----  Train Loss: 4.380 ----  Validation Loss: 4.441277980804443\n",
      "-----Epoch: 4\n",
      "Iteration:  0 ----  Train Loss: 4.388 ----  Validation Loss: 4.438595771789551\n",
      "Iteration:  1 ----  Train Loss: 4.363 ----  Validation Loss: 4.439728260040283\n",
      "Iteration:  2 ----  Train Loss: 4.353 ----  Validation Loss: 4.440624713897705\n",
      "Iteration:  3 ----  Train Loss: 4.344 ----  Validation Loss: 4.4404144287109375\n",
      "Iteration:  4 ----  Train Loss: 4.328 ----  Validation Loss: 4.438945770263672\n",
      "Iteration:  5 ----  Train Loss: 4.356 ----  Validation Loss: 4.439628601074219\n",
      "Iteration:  6 ----  Train Loss: 4.323 ----  Validation Loss: 4.438213348388672\n",
      "Iteration:  7 ----  Train Loss: 4.291 ----  Validation Loss: 4.439249038696289\n",
      "Iteration:  8 ----  Train Loss: 4.323 ----  Validation Loss: 4.436680793762207\n",
      "Iteration:  9 ----  Train Loss: 4.305 ----  Validation Loss: 4.436718940734863\n",
      "Iteration:  10 ----  Train Loss: 4.331 ----  Validation Loss: 4.437691688537598\n",
      "Iteration:  11 ----  Train Loss: 4.299 ----  Validation Loss: 4.439031600952148\n",
      "Iteration:  12 ----  Train Loss: 4.380 ----  Validation Loss: 4.437453269958496\n",
      "Iteration:  13 ----  Train Loss: 4.322 ----  Validation Loss: 4.439799785614014\n",
      "Iteration:  14 ----  Train Loss: 4.303 ----  Validation Loss: 4.438515663146973\n",
      "Iteration:  15 ----  Train Loss: 4.360 ----  Validation Loss: 4.436301231384277\n",
      "Iteration:  16 ----  Train Loss: 4.273 ----  Validation Loss: 4.441534519195557\n",
      "Iteration:  17 ----  Train Loss: 4.309 ----  Validation Loss: 4.439088821411133\n",
      "Iteration:  18 ----  Train Loss: 4.384 ----  Validation Loss: 4.437628269195557\n",
      "Iteration:  19 ----  Train Loss: 4.301 ----  Validation Loss: 4.4437737464904785\n",
      "Iteration:  20 ----  Train Loss: 4.295 ----  Validation Loss: 4.43886661529541\n",
      "Iteration:  21 ----  Train Loss: 4.286 ----  Validation Loss: 4.437257289886475\n",
      "Iteration:  22 ----  Train Loss: 4.315 ----  Validation Loss: 4.4381022453308105\n",
      "Iteration:  23 ----  Train Loss: 4.358 ----  Validation Loss: 4.441542148590088\n",
      "Iteration:  24 ----  Train Loss: 4.324 ----  Validation Loss: 4.435764789581299\n",
      "Iteration:  25 ----  Train Loss: 4.276 ----  Validation Loss: 4.43746280670166\n",
      "Iteration:  26 ----  Train Loss: 4.253 ----  Validation Loss: 4.438910007476807\n",
      "Iteration:  27 ----  Train Loss: 4.354 ----  Validation Loss: 4.4368767738342285\n",
      "Iteration:  28 ----  Train Loss: 4.328 ----  Validation Loss: 4.4353132247924805\n",
      "Iteration:  29 ----  Train Loss: 4.333 ----  Validation Loss: 4.433292388916016\n",
      "Iteration:  30 ----  Train Loss: 4.339 ----  Validation Loss: 4.435271739959717\n",
      "Iteration:  31 ----  Train Loss: 4.319 ----  Validation Loss: 4.434195041656494\n",
      "Iteration:  32 ----  Train Loss: 4.303 ----  Validation Loss: 4.433942794799805\n",
      "Iteration:  33 ----  Train Loss: 4.324 ----  Validation Loss: 4.4345221519470215\n",
      "Iteration:  34 ----  Train Loss: 4.318 ----  Validation Loss: 4.435064315795898\n",
      "Iteration:  35 ----  Train Loss: 4.333 ----  Validation Loss: 4.434440612792969\n",
      "Iteration:  36 ----  Train Loss: 4.325 ----  Validation Loss: 4.435737609863281\n",
      "Iteration:  37 ----  Train Loss: 4.302 ----  Validation Loss: 4.433035373687744\n",
      "Iteration:  38 ----  Train Loss: 4.322 ----  Validation Loss: 4.43272590637207\n",
      "Iteration:  39 ----  Train Loss: 4.354 ----  Validation Loss: 4.43425989151001\n",
      "Iteration:  40 ----  Train Loss: 4.313 ----  Validation Loss: 4.431476593017578\n",
      "Iteration:  41 ----  Train Loss: 4.308 ----  Validation Loss: 4.430048942565918\n",
      "Iteration:  42 ----  Train Loss: 4.272 ----  Validation Loss: 4.431024074554443\n",
      "Iteration:  43 ----  Train Loss: 4.323 ----  Validation Loss: 4.431747913360596\n",
      "Iteration:  44 ----  Train Loss: 4.313 ----  Validation Loss: 4.430407524108887\n",
      "Iteration:  45 ----  Train Loss: 4.331 ----  Validation Loss: 4.429998874664307\n",
      "Iteration:  46 ----  Train Loss: 4.313 ----  Validation Loss: 4.430393218994141\n",
      "Iteration:  47 ----  Train Loss: 4.315 ----  Validation Loss: 4.432165622711182\n",
      "Iteration:  48 ----  Train Loss: 4.339 ----  Validation Loss: 4.432875633239746\n",
      "Iteration:  49 ----  Train Loss: 4.358 ----  Validation Loss: 4.43247652053833\n",
      "Iteration:  50 ----  Train Loss: 4.352 ----  Validation Loss: 4.429981708526611\n",
      "Iteration:  51 ----  Train Loss: 4.320 ----  Validation Loss: 4.4294657707214355\n",
      "Iteration:  52 ----  Train Loss: 4.311 ----  Validation Loss: 4.430723190307617\n",
      "Iteration:  53 ----  Train Loss: 4.340 ----  Validation Loss: 4.430872440338135\n",
      "Iteration:  54 ----  Train Loss: 4.317 ----  Validation Loss: 4.430593013763428\n",
      "Iteration:  55 ----  Train Loss: 4.375 ----  Validation Loss: 4.4308929443359375\n",
      "Iteration:  56 ----  Train Loss: 4.333 ----  Validation Loss: 4.430107593536377\n",
      "Iteration:  57 ----  Train Loss: 4.307 ----  Validation Loss: 4.429980754852295\n",
      "Iteration:  58 ----  Train Loss: 4.293 ----  Validation Loss: 4.430972099304199\n"
     ]
    }
   ],
   "source": [
    "# Skeleton code, as in the previous notebook.\n",
    "# Write code training code and save your best performing model on the\n",
    "# validation set. We will be testing the loss on a held-out test dataset.\n",
    "\n",
    "folder_path=\"models/improve3_transformer_summarization\"\n",
    "model_file = root_folder+\"models/improve2_transformer_summarization\"\n",
    "no_epochs=5\n",
    "batch_size = 1028\n",
    "no_batches=len(d_train)//batch_size\n",
    "val_size=len(d_valid)\n",
    "val_loss=10\n",
    "\n",
    "#Get Validation Data\n",
    "val_input, val_input_mask, val_output, val_output_mask = build_batch(d_valid, val_size)\n",
    "feed_val = {model.source_sequence: val_input, model.target_sequence: val_output,model.encoder_mask: val_input_mask, model.decoder_mask: val_output_mask}\n",
    "\n",
    "with tf.Session() as sess:\n",
    "    # This is how you randomly initialize the Transformer weights.\n",
    "    #sess.run(tf.global_variables_initializer())\n",
    "    model.saver.restore(sess, model_file) # Uncomment to re-train from previous model\n",
    "\n",
    "    for e in range(no_epochs):\n",
    "        print(\"-----Epoch: {}\".format(e))\n",
    "        if val_loss<4:\n",
    "            break\n",
    "        \n",
    "        for b in range(no_batches):\n",
    "    \n",
    "            # Create a random mini-batch from the training dataset\n",
    "            batch_input, batch_input_mask, batch_output, batch_output_mask = build_batch(d_train, batch_size)\n",
    "            # Build the feed-dict connecting placeholders and mini-batch\n",
    "            feed = {model.source_sequence: batch_input, model.target_sequence: batch_output,model.encoder_mask: batch_input_mask, model.decoder_mask: batch_output_mask}\n",
    "\n",
    "            # Obtain the loss. Be careful when you use the train_op and not, as previously.\n",
    "            train_loss, _, step = sess.run([model.loss, model.train_op, model.global_step], feed_dict=feed)\n",
    "            \n",
    "            if b%1==0:\n",
    "                \n",
    "                val_loss= sess.run(model.loss, feed_dict=feed_val)\n",
    "                print(\"Iteration:  {} ----  Train Loss: {:.3f} ----  Validation Loss: {}\".format(b,train_loss,val_loss))\n",
    "                # This is how you save model weights into a file\n",
    "                model.saver.save(sess, root_folder+folder_path)\n",
    "                \n"
   ]
  },
  {
   "cell_type": "markdown",
   "metadata": {},
   "source": [
    "# Using the Summarization model"
   ]
  },
  {
   "cell_type": "markdown",
   "metadata": {},
   "source": [
    "Now that you have trained a Transformer to perform Summarization, we will use the model on news articles from the wild.\n",
    "\n",
    "The three subsections below explore what the model has learned."
   ]
  },
  {
   "cell_type": "code",
   "execution_count": 27,
   "metadata": {},
   "outputs": [],
   "source": [
    "# Put the file path to your best performing model in the string below.\n",
    "\n",
    "model_file = root_folder+\"models/improve3_transformer_summarization\"\n",
    "#model_file = root_folder+\"models/transformer_summarizer\""
   ]
  },
  {
   "cell_type": "markdown",
   "metadata": {},
   "source": [
    "## The validation loss"
   ]
  },
  {
   "cell_type": "markdown",
   "metadata": {},
   "source": [
    "Measure the validation loss of your model. This part could be used, as in our previous notebook, in deciding what is a likely, vs. unlikely summary for an article.\n",
    "\n",
    "We will use the code here with the unreleased test-set to evaluate your model."
   ]
  },
  {
   "cell_type": "code",
   "execution_count": null,
   "metadata": {},
   "outputs": [
    {
     "name": "stdout",
     "output_type": "stream",
     "text": [
      "INFO:tensorflow:Restoring parameters from models/improve3_transformer_summarization\n"
     ]
    }
   ],
   "source": [
    "with tf.Session() as sess:\n",
    "    model.saver.restore(sess, model_file)\n",
    "\n",
    "    e_input, e_input_mask, e_output, e_output_mask = build_batch(d_valid, 200)\n",
    "    feed = {model.source_sequence: e_input, model.target_sequence: e_output,\n",
    "                                      model.encoder_mask: e_input_mask, model.decoder_mask: e_output_mask}\n",
    "    valid_loss = sess.run(model.loss, feed_dict=feed)\n",
    "    print(\"Validation loss:\", valid_loss)"
   ]
  },
  {
   "cell_type": "markdown",
   "metadata": {},
   "source": [
    "## Generating an article's summary"
   ]
  },
  {
   "cell_type": "markdown",
   "metadata": {},
   "source": [
    "This model we have built is meant to be used to generate summaries for new articles we do not have summaries for.\n",
    "We got a [news article](https://www.chicagotribune.com/news/local/breaking/ct-met-officer-shot-20190309-story.html) from the Chicago Tribune about a police shooting, and want to use our model to produce a summary.\n",
    "\n",
    "As you will see, our model is still limited in its ability, and will most likely not produce a perfect summary, however, with more data and training, this model would be able to produce good summaries.\n",
    "The article you produce should look like broken English sentences, but should roughly correspond to the article."
   ]
  },
  {
   "cell_type": "code",
   "execution_count": null,
   "metadata": {
    "collapsed": true
   },
   "outputs": [],
   "source": [
    "article_text = \"A 34-year-old Chicago police officer has been shot in the shoulder during the execution of a search warrant in the Humboldt Park neighborhood, police say. The alleged shooter, a 19-year-old woman, was in custody. The shooting happened about 7:20 p.m. in the 2700 block of West Potomac Avenue, police said. The officer, part of the Grand Central District tactical unit, was taken to Stroger Hospital. While officers were serving a \\\"typical\\\" search warrant for \\\"narcotics and illegal weapons\\\" and were attempting to reach a rear door, \\\"a shot was fired,\\\" striking the tactical officer in the shoulder, said Chicago police Superintendent Eddie Johnson during a news briefing outside the hospital. He said the officer, who has about four or five years on the job, was \\\"stable\\\" but in critical condition. \\\"His family is here,\\\" Johnson said. \\\"He’s talking a lot and just wants the ordeal to be over.\\\" He said this incident serves as just another reminder of how dangerous a police officer’s job is. At the scene of the shooting, crime tape closed Potomac from Washtenaw Avenue to California Avenue and encompassed the alley west of the brick apartment building, south of Potomac. Dozens of officers stood in the alley, while even more walked up and down the street. Neighbors gathered at the edge of the yellow tape on the sidewalk along California and watched them work. Standing next to a man, a woman talked to police in the crime scene, across the street. \\\"We're not under arrest? We can go?\\\" the woman checked with officers. They told her she could go, and she and the man walked underneath the yellow tape and out of the crime scene.\"\n",
    "int_output=\"<s>\"\n",
    "input_length = 400\n",
    "output_length = 100\n",
    "\n",
    "# Process the capitalization with the preprocess_capitalization of the capita package.\n",
    "article_text = capita.preprocess_capitalization(article_text)\n",
    "int_output=\"the police\"\n",
    "\n",
    "# Numerize the tokens of the processed text using the loaded sentencepiece model.\n",
    "numerized = sp.EncodeAsIds(article_text)\n",
    "#numerized_out=sp.EncodeAsIds(int_output)\n",
    "# Pad the sequence and keep the mask of the input\n",
    "padded, mask = pad_sequence(numerized, pad_index, 400)\n",
    "#padded_out, mask_out = pad_sequence(numerized_out, pad_index, 100)\n",
    "\n",
    "\n",
    "# Making the news article into a batch of size one, to be fed to the neural network.\n",
    "encoder_input = np.array([padded])\n",
    "encoder_mask = np.array([mask])\n",
    "#decoder_input = np.array([padded_out])\n",
    "#decoder_mask = np.array([mask_out])\n",
    "\n",
    "with tf.Session() as sess:\n",
    "    model.saver.restore(sess, model_file)\n",
    "\n",
    "    #decoded_so_far = [0]\n",
    "    decoded_so_far=sp.EncodeAsIds(int_output)\n",
    "    \n",
    "    for j in range(output_length):\n",
    "        padded_decoder_input, decoder_mask = pad_sequence(decoded_so_far, pad_index, output_length)\n",
    "        padded_decoder_input = [padded_decoder_input]\n",
    "        decoder_mask = [decoder_mask]\n",
    "        print(\"========================\")\n",
    "        print(padded_decoder_input)\n",
    "        # Use the model to find the distrbution over the vocabulary for the next word\n",
    "        feed = {model.source_sequence: encoder_input, model.target_sequence: padded_decoder_input,\n",
    "                                      model.encoder_mask: encoder_mask, model.decoder_mask: decoder_mask}\n",
    "        \n",
    "        logits = sess.run(model.decoded_logits, feed_dict=feed)\n",
    "        \n",
    "        chosen_words = np.argmax(logits,axis=2) # Take the argmax, getting the most likely next word\n",
    "        print(logits.shape)\n",
    "        decoded_so_far.append(int(chosen_words[0, j])) # We add it to the summary so far\n",
    "\n",
    "\n",
    "print(\"The final summary:\")\n",
    "print(\"\".join([vocab[i] for i in decoded_so_far]).replace(\"▁\", \" \"))"
   ]
  },
  {
   "cell_type": "markdown",
   "metadata": {},
   "source": [
    "## Word vectors"
   ]
  },
  {
   "cell_type": "markdown",
   "metadata": {},
   "source": [
    "The model we train learns word representations for each word in our vocabulary. A word represention is a vector of **dim** size.\n",
    "\n",
    "It is common in NLP to inspect the word vectors, as some properties of language often appear in the embedding structure.\n",
    "\n",
    "\n",
    "We are going to load the word embeddings learned by our model, and inspect it.\n",
    "Because our network was not trained for long, we are going for the simplest patterns, but if we let the network train longer, it learns more complex, semantic patterns."
   ]
  },
  {
   "cell_type": "code",
   "execution_count": null,
   "metadata": {
    "collapsed": true
   },
   "outputs": [],
   "source": [
    "# We help you load the matrix, as it is hidden within the Transformer structure.\n",
    "\n",
    "with tf.Session() as sess:\n",
    "    model.saver.restore(sess, model_file)\n",
    "    E = sess.run(model.model.encoder.embedding_layer.embedding.embeddings)\n",
    "\n",
    "print(\"The embedding matrix has shape:\", E.shape)\n",
    "print(\"The vocabulary has length:\", len(vocab))"
   ]
  },
  {
   "cell_type": "markdown",
   "metadata": {},
   "source": [
    "Pronouns serve very similar purposes, therefore we should expect the representation of \"he\" and \"she\" to be similar, and have cosine similarity.\n",
    "\n",
    "- **TODO**:  Find the cosine similarity between the vectors that represent words \"she\" and \"he\".\n",
    "- **TODO**:  Find the cosine similarity between the vectors that represent words \"more\" and \"less\".\n",
    "\n",
    "We can contrast that with the cosine similarity to a random, non-related word, like \"ball\", or \"gorilla\".\n",
    "- **TODO**: Compute the cosine similarity between \"she\" and \"ball\".\n",
    "- **TODO**: Compute the cosine similarity between \"more\" and \"protest\".\n",
    "\n"
   ]
  },
  {
   "cell_type": "code",
   "execution_count": null,
   "metadata": {
    "collapsed": true
   },
   "outputs": [],
   "source": [
    "def cosine_sim(v1, v2):\n",
    "    # DONE: Implement the cosine similarity of 2 vectors. Careful: the words might not have unit norm.\n",
    "    v1=np.array(v1)\n",
    "    v2=np.array(v2)\n",
    "    return np.dot(v1,v2.T)/(np.linalg.norm(v1)*np.linalg.norm(v2))\n",
    "\n",
    "for w1, w2 in [(\"she\", \"he\"), (\"more\", \"less\"), (\"she\", \"ball\"), (\"more\", \"gorilla\")]:\n",
    "    w1_index = vocab.index('▁'+w1) # The index of the first  word in our vocabulary\n",
    "    w2_index = vocab.index('▁'+w2) # The index of the second word in our vocabulary\n",
    "    w1_vec = E[w1_index] # Get the embedding vector of the first  word\n",
    "    w2_vec = E[w2_index] # Get the embedding vector of the second word\n",
    "    \n",
    "    print(w1,\" vs. \", w2, \"similarity:\",cosine_sim(w1_vec, w2_vec))\n",
    "    "
   ]
  },
  {
   "cell_type": "markdown",
   "metadata": {},
   "source": [
    "These effects are unfortunately small, as we have only trained the network on a few hours on a few thousand articles.\n",
    "However, the same model trained for longer on more data exhibits many interesting semantic and syntactic patterns, such as:\n",
    "\n",
    "- Words vectors with high cosine similarity usually represent words that have semantic similarity (such as duck and pigeon)\n",
    "- Analogies can occur, a famous case is that of: woman - man + king ≈ queen. Or france - paris + rome ≈ italy.\n",
    "\n",
    "- Looking at top-k similar words can help find synonyms.\n",
    "\n",
    "To read examples of more complex patterns that appear in word embedding spaces, read [this blog](https://explosion.ai/blog/sense2vec-with-spacy). To play with a live demo and try similarities on rich word embeddings, [go here.](https://explosion.ai/demos/sense2vec)"
   ]
  }
 ],
 "metadata": {
  "anaconda-cloud": {},
  "kernelspec": {
   "display_name": "Python 3",
   "language": "python",
   "name": "python3"
  },
  "language_info": {
   "codemirror_mode": {
    "name": "ipython",
    "version": 3
   },
   "file_extension": ".py",
   "mimetype": "text/x-python",
   "name": "python",
   "nbconvert_exporter": "python",
   "pygments_lexer": "ipython3",
   "version": "3.5.3"
  }
 },
 "nbformat": 4,
 "nbformat_minor": 2
}
