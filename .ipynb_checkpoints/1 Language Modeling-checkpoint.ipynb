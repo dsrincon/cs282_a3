{
 "cells": [
  {
   "cell_type": "markdown",
   "metadata": {},
   "source": [
    "# Introduction"
   ]
  },
  {
   "cell_type": "markdown",
   "metadata": {},
   "source": [
    "<center><h3>**Welcome to the Language modeling Notebook.**</h3></center>\n",
    "\n",
    "In this assignment, you are going to train a neural network to **generate news headlines**.\n",
    "To reduce computational needs, we have reduced it to headlines about technology, and a handful of Tech giants.\n",
    "In this assignment you will:\n",
    "- Learn to preprocess raw text so it can be fed into an LSTM.\n",
    "- Make use of the LSTM library of Tensorflow, to train a Language model to generate headlines\n",
    "- Use your network to generate headlines, and judge which headlines are likely or not\n",
    "\n",
    "\n"
   ]
  },
  {
   "cell_type": "markdown",
   "metadata": {},
   "source": [
    "**What is a language model?**\n",
    "\n",
    "Language modeling is the task of assigning a probability to sentences in a language. Besides assigning a probability to each sequence of words, the language models also assigns a probability for the likelihood of a given word (or a sequence of words) to follow a sequence of words.\n",
    "— Page 105, __[Neural Network Methods in Natural Language Processing](https://www.amazon.com/Language-Processing-Synthesis-Lectures-Technologies/dp/1627052984/)__, 2017.\n",
    "\n",
    "In terms of neural network, we are training a neural network to produce probabilities (classification) over a fixed vocabulary of words.\n",
    "Concretely, we are training a neural network to produce:\n",
    "$$ P ( w_{i+1} | w_1, w_2, w_3, ..., w_i), \\forall i \\in (1,n)$$\n",
    "\n",
    "** Why is language modeling important? **\n",
    "\n",
    "Language modeling is a core problem in NLP.\n",
    "\n",
    "Language models can either be used as a stand-alone to produce new text that matches the distribution of text the model is trained on, but can also be used at the front-end of a more sophisticated model to produce better results.\n",
    "\n",
    "Recently for example, the __[BERT](https://arxiv.org/abs/1810.04805)__ paper show-cased that pretraining a large neural network on a language modeling task can help improve state-of-the-art on many NLP tasks. \n",
    "\n",
    "How good can the generation of a Language model be?\n",
    "\n",
    "If you have not seen the latest post by OpenAI, you should read some of the samples they generated from their language model __[here](https://blog.openai.com/better-language-models/#sample1)__.\n",
    "Because of computational restrictions, we will not achieve as good text production, but the same algorithm is at the core. They just use more data and compute."
   ]
  },
  {
   "cell_type": "markdown",
   "metadata": {},
   "source": [
    "# Library imports"
   ]
  },
  {
   "cell_type": "markdown",
   "metadata": {},
   "source": [
    "Before starting, make sure you have all these libraries."
   ]
  },
  {
   "cell_type": "code",
   "execution_count": 1,
   "metadata": {
    "collapsed": true
   },
   "outputs": [],
   "source": [
    "from segtok import tokenizer\n",
    "from collections import Counter\n",
    "import tensorflow as tf\n",
    "from tensorflow import contrib\n",
    "import numpy as np\n",
    "import json\n",
    "import os\n",
    "\n",
    "root_folder = \"\""
   ]
  },
  {
   "cell_type": "markdown",
   "metadata": {},
   "source": [
    "# Loading the datasets"
   ]
  },
  {
   "cell_type": "markdown",
   "metadata": {},
   "source": [
    "Make sure the dataset files are all in the `dataset` folder of the assignment.\n",
    "\n",
    " - If you are using this notebook locally: You should run the `download_data.sh` script.\n",
    " - If you are using the Colab version of the notebook, make sure that your Google Drive is mounted, and you verify from the file explorer in Colab that the files are viewable within `/content/gdrive/CS182_HW03/dataset/`\n",
    " \n"
   ]
  },
  {
   "cell_type": "code",
   "execution_count": 2,
   "metadata": {
    "collapsed": false
   },
   "outputs": [
    {
     "name": "stdout",
     "output_type": "stream",
     "text": [
      "Number of training samples: 88568\n",
      "Number of validation samples: 946\n"
     ]
    }
   ],
   "source": [
    "# This cell loads the data for the model\n",
    "# Run this before working on loading any of the additional data\n",
    "\n",
    "with open(root_folder+\"dataset/headline_generation_dataset_processed.json\", \"r\") as f:\n",
    "    d_released = json.load(f)\n",
    "\n",
    "with open(root_folder+\"dataset/headline_generation_vocabulary.txt\", \"r\") as f:\n",
    "    vocabulary = f.read().split(\"\\n\")\n",
    "w2i = {w: i for i, w in enumerate(vocabulary)} # Word to index\n",
    "unkI, padI, start_index = w2i['UNK'], w2i['PAD'], w2i['<START>']\n",
    "\n",
    "vocab_size = len(vocabulary)\n",
    "input_length = len(d_released[0]['numerized']) # The length of the first element in the dataset, they are all of the same length\n",
    "d_train = [d for d in d_released if d['cut'] == 'training']\n",
    "d_valid = [d for d in d_released if d['cut'] == 'validation']\n",
    "\n",
    "print(\"Number of training samples:\",len(d_train))\n",
    "print(\"Number of validation samples:\",len(d_valid))"
   ]
  },
  {
   "cell_type": "code",
   "execution_count": 19,
   "metadata": {
    "collapsed": false
   },
   "outputs": [
    {
     "name": "stdout",
     "output_type": "stream",
     "text": [
      "{'cut': 'training', 'title': \"Amazon now offers free shipping on 'small and light' items, no minimum order\", 'url': 'http://www.foxnews.com/tech/2015/06/03/amazon-now-offers-free-shipping-on-small-and-light-items-no-minimum-order.html', 'mask': [True, True, True, True, True, True, True, True, True, True, True, True, True, True, True, True, False, False, False, False], 'numerized': [15, 73, 277, 173, 1275, 10, 8, 741, 17, 1640, 8, 2584, 4, 142, 2805, 488, 2, 2, 2, 2]}\n"
     ]
    }
   ],
   "source": [
    "print(d_released[100])"
   ]
  },
  {
   "cell_type": "code",
   "execution_count": 4,
   "metadata": {
    "collapsed": false
   },
   "outputs": [
    {
     "name": "stdout",
     "output_type": "stream",
     "text": [
      "['<START>', 'UNK', 'PAD', 'to', ',', 'apple', 'facebook', 'google', \"'\", 'in']\n"
     ]
    }
   ],
   "source": [
    "print(vocabulary[:10])"
   ]
  },
  {
   "cell_type": "markdown",
   "metadata": {},
   "source": [
    "Now that we have loaded the data, let's inspect one of the elements. Each sample in our dataset is has a `numerized` vector, that contains the preprocessed headline. This vector is what we will feed in to the neural network. The field `numerized` corresponds to this list of tokens. The already loaded dictionary `vocabulary` maps token lists to the actual string. Use these elements to recover `title` key of entry 1001 in the training dataset.\n",
    "\n",
    "**DONE**: Write the numerized2text function and inspect element 1001 in the training dataset (`entry = d_train[1001]`).\n",
    "\n"
   ]
  },
  {
   "cell_type": "code",
   "execution_count": 3,
   "metadata": {
    "collapsed": false
   },
   "outputs": [
    {
     "name": "stdout",
     "output_type": "stream",
     "text": [
      "Reversing the numerized: microsoft donates cloud computing ' worth $ 1 bn '\n",
      "From the `title` entry: Microsoft donates cloud computing 'worth $1 bn'\n"
     ]
    }
   ],
   "source": [
    "def numerized2text(numerized):\n",
    "    \"\"\" Converts an integer sequence in the vocabulary into a string corresponding to the title.\n",
    "    \n",
    "        Arguments:\n",
    "            numerized: List[int]  -- The list of vocabulary indices corresponding to the string\n",
    "        Returns:\n",
    "            title: str -- The string corresponding to the numerized input, without padding.\n",
    "    \"\"\"\n",
    "    #####\n",
    "    # BEGIN YOUR CODE HERE \n",
    "    # Recover each word from the vocabulary in the list of indices in numerized, using the vocabulary variable\n",
    "    # Hint: Use the string.join() function to reconstruct a single string\n",
    "    #####\n",
    "    \n",
    "    \n",
    "    words=[]\n",
    "    separator=\" \"\n",
    "    for i in numerized:\n",
    "        \n",
    "        if (i==1):\n",
    "            word='?'\n",
    "        elif(i==2):\n",
    "            continue\n",
    "        else:\n",
    "            word=list(w2i.keys())[list(w2i.values()).index(i)]\n",
    "        words.append(word)\n",
    "     \n",
    "    converted_string=separator.join(words)\n",
    "        \n",
    "        \n",
    "    \n",
    "    #words = None\n",
    "    #converted_string = None\n",
    "    \n",
    "    #####\n",
    "    # END YOUR CODE HERE\n",
    "    #####\n",
    "    \n",
    "    return converted_string\n",
    "\n",
    "entry = d_train[1001]\n",
    "print(\"Reversing the numerized: \"+numerized2text(entry['numerized']))\n",
    "print(\"From the `title` entry: \"+ entry['title'])"
   ]
  },
  {
   "cell_type": "markdown",
   "metadata": {},
   "source": [
    "In language modeling, we train a model to produce the next word in the sequence given all previously generated words. This has, in practice, two steps:\n",
    "\n",
    "\n",
    "    1. Adding a special <START> token to the start of the sequence for the input. This \"shifts\" the input to the right by one. We call this the \"source\" sequence\n",
    "    2. Making the network predict the original, unshifted version (we call this the \"target\" sequence)\n",
    "\n",
    "    \n",
    "Let's take an example. Say we want to train the network on the sentence: \"The cat is great.\"\n",
    "The input to the network will be \"`<START>` The cat is great.\" The target will be: \"The cat is great\".\n",
    "    \n",
    "Therefore the first prediction is to select the word \"The\" given the `<START>` token.\n",
    "The second prediction is to produce the word \"cat\" given the two tokens \"`<START>` The\".\n",
    "At each step, the network learns to predict the next word, given all previous ones.\n",
    "    \n",
    "---"
   ]
  },
  {
   "cell_type": "markdown",
   "metadata": {},
   "source": [
    "Your next step is to write the build_batch function. Given a dataset, we select a random subset of samples, and will build the \"inputs\" and the \"targets\" of the batch, following the procedure we've described.\n",
    "\n",
    "**DONE**: write the build_batch function. We give you the structure, and you have to fill in where we have left things `None`.\n"
   ]
  },
  {
   "cell_type": "code",
   "execution_count": 4,
   "metadata": {
    "collapsed": true
   },
   "outputs": [],
   "source": [
    "def build_batch(dataset, batch_size):\n",
    "    \"\"\" Builds a batch of source and target elements from the dataset.\n",
    "    \n",
    "        Arguments:\n",
    "            dataset: List[db_element] -- A list of dataset elements\n",
    "            batch_size: int -- The size of the batch that should be created\n",
    "        Returns:\n",
    "            batch_input: List[List[int]] -- List of source sequences\n",
    "            batch_target: List[List[int]] -- List of target sequences\n",
    "            batch_target_mask: List[List[int]] -- List of target batch masks\n",
    "    \"\"\"\n",
    "    \n",
    "    #####\n",
    "    # BEGIN YOUR CODE HERE \n",
    "    #####\n",
    "    \n",
    "    \n",
    "    # We get a list of indices we will choose from the dataset.\n",
    "    # The randint function uses a uniform distribution, giving equal probably to any entry\n",
    "    # for each batch\n",
    "    indices = list(np.random.randint(0, len(dataset), size=batch_size))\n",
    "    \n",
    "    # Recover what the entries for the batch are\n",
    "    batch = [dataset[i] for i in indices]\n",
    "    \n",
    "    # Get the raw numerized for this input, each element of the dataset has a 'numerized' key\n",
    "    batch_numerized = [b['numerized'] for b in batch]\n",
    "\n",
    "    # Create an array of start_index that will be concatenated at position 1 for the input.\n",
    "    # Should be of shape (batch_size, 1)\n",
    "    start_tokens = np.zeros((batch_size,1))\n",
    "\n",
    "    # Concatenate the start_tokens with the rest of the input\n",
    "    # The np.concatenate function should be useful\n",
    "    # The output should now be [batch_size, sequence_length+1]\n",
    "    batch_input = np.concatenate((start_tokens,batch_numerized),axis=1)\n",
    "\n",
    "    # Remove the last word from each element in the batch\n",
    "    # To restore the [batch_size, sequence_length] size\n",
    "    batch_input = batch_input[:,:-1]\n",
    "    \n",
    "    # The target should be the un-shifted numerized input\n",
    "    batch_target = batch_numerized\n",
    "\n",
    "    # The target-mask is a 0 or 1 filter to note which tokens are\n",
    "    # padding or not, to give the loss, so the model doesn't get rewarded for\n",
    "    # predicting PAD tokens.\n",
    "    batch_target_mask = np.array([a['mask'] for a in batch])\n",
    "    \n",
    "    #####\n",
    "    # END YOUR CODE HERE \n",
    "    #####\n",
    "        \n",
    "    return batch_input, batch_target, batch_target_mask"
   ]
  },
  {
   "cell_type": "code",
   "execution_count": 7,
   "metadata": {
    "collapsed": false
   },
   "outputs": [
    {
     "name": "stdout",
     "output_type": "stream",
     "text": [
      "5\n",
      "<START> u.s. tax avoidance clampdown a potential headache for apple\n"
     ]
    }
   ],
   "source": [
    "# UNIT TEST\n",
    "batch_input,batch_target,batch_target_mask=build_batch(d_train,5)\n",
    "print(len(batch_input))\n",
    "print(numerized2text(batch_input[1]))"
   ]
  },
  {
   "cell_type": "markdown",
   "metadata": {},
   "source": [
    "# Creating the language model"
   ]
  },
  {
   "cell_type": "markdown",
   "metadata": {},
   "source": [
    "Now that we've written the data pipelining, we are ready to write the Neural network.\n",
    "\n",
    "The steps to setting up a neural network to do Language modeling are:\n",
    "- Creating the placeholders for the model, where we can feed in our inputs and targets.\n",
    "- Creating an RNN of our choice, size, and with optional parameters\n",
    "- Using the RNN on our placeholder inputs.\n",
    "- Getting the output from the RNN, and projecting it into a vocabulary sized dimension, so that we can make word predictions.\n",
    "- Setting up the loss on the outputs so that the network learns to produce the correct words.\n",
    "- Finally, choosing an optimizer, and defining a training operation: using the optimizer to minimize the loss.\n",
    "\n",
    "We provide skeleton code for the model, you can fill in the `None` section. If you are unfamiliar with Tensorflow, we provide some idea of what functions to look for, you should use the Tensorflow online documentation.\n",
    "\n",
    "**TODO**: Replace the `None` variables with their respective code elements in the LanguageModel Class\n"
   ]
  },
  {
   "cell_type": "code",
   "execution_count": 5,
   "metadata": {
    "collapsed": true
   },
   "outputs": [],
   "source": [
    "# Using a basic RNN/LSTM for Language modeling\n",
    "class LanguageModel():\n",
    "    def __init__(self, input_length, vocab_size, rnn_size, learning_rate=1e-3):\n",
    "        \n",
    "        # Create the placeholders for the inputs:\n",
    "        # All three placeholders should be of size [None, input_length]\n",
    "        # Where None represents a variable batch_size, and input_length is the\n",
    "        # maximal length of a sequence of words, after being padded.\n",
    "        self.input_num = tf.placeholder(tf.int32, shape=[None, input_length])\n",
    "        self.targets = tf.placeholder(tf.int32, shape=[None, input_length])\n",
    "        self.targets_mask = tf.placeholder(tf.int32, shape=[None, input_length])\n",
    "        \n",
    "        # Create an embedding variable of shape [vocab_size, rnn_size]\n",
    "        # That will map each word in our vocab into a vector of rnn_size size.\n",
    "        embedding = tf.get_variable(\"embedding\",[vocab_size,rnn_size])\n",
    "        # Use the tensorflow embedding_lookup function\n",
    "        # To embed the input_num, using the embedding variable we've created\n",
    "        input_emb = tf.nn.embedding_lookup(embedding,self.input_num)\n",
    "\n",
    "        # Create a an RNN or LSTM cell of rnn_size size.\n",
    "        # Look into the tf.nn.rnn_cell documentation\n",
    "        # You can optionally use Tensorflow Add-ons such as the MultiRNNCell, or the DropoutWrapper\n",
    "        lm_cell = tf.nn.rnn_cell.LSTMCell(rnn_size)\n",
    "        \n",
    "        # Use the dynamic_rnn function of Tensorflow to run the embedded inputs\n",
    "        # using the lm_cell you've created, and obtain the outputs of the RNN cell.\n",
    "        # You have created a cell, which represents a single block (column) of the RNN.\n",
    "        # dynamic_rnn will \"copy\" the cell for each element in your sequence, runs the input you provide through the cell,\n",
    "        # and returns the outputs and the states of the cell.\n",
    "        outputs, states = tf.nn.dynamic_rnn(lm_cell,input_emb,dtype=tf.float32)\n",
    "\n",
    "        # Use a dense layer to project the outputs of the RNN cell into the size of the\n",
    "        # vocabulary (vocab_size).\n",
    "        # output_logits should be of shape [None,input_length,vocab_size]\n",
    "        # You can look at the tf.layers.dense function\n",
    "        self.output_logits = tf.layers.dense(outputs,vocab_size)\n",
    "        # Setup the loss: using the sparse_softmax_cross_entropy.\n",
    "        # The logits are the output_logits we've computed.\n",
    "        # The targets are the gold labels we are trying to match\n",
    "        # Don't forget to use the targets_mask we have, so your loss is not off,\n",
    "        #NOTE: Including them in the loss will lead to 'gradient gains' by simply adding padding\n",
    "        # And your model doesn't get rewarded for predicting PAD tokens\n",
    "        # You might have to cast the masks into float32. Look at the tf.cast function.\n",
    "        mask_float=tf.cast(self.targets_mask,tf.float32)\n",
    "        self.loss = tf.losses.sparse_softmax_cross_entropy(self.targets,self.output_logits,weights=mask_float)\n",
    "\n",
    "        # Setup an optimizer (SGD, RMSProp, Adam), you can find a list under tf.train.*\n",
    "        # And provide it with a start learning rate.\n",
    "\n",
    "        optimizer = tf.train.AdamOptimizer(learning_rate=learning_rate)     \n",
    "\n",
    "        # We create a train_op that requires the optimizer we've created to minimize the\n",
    "        # loss we've defined.\n",
    "        # look for the optimizer.minimize function, define what should be miniminzed.\n",
    "        # You can provide it with the provide an optional global_step parameter as well that keeps of how many\n",
    "        # Optimizations steps have been run.\n",
    "        \n",
    "        self.global_step = tf.train.get_or_create_global_step()\n",
    "        self.train_op = optimizer.minimize(self.loss,global_step=self.global_step)\n",
    "        self.saver = tf.train.Saver()"
   ]
  },
  {
   "cell_type": "markdown",
   "metadata": {},
   "source": [
    "Once you have created the Model class, we should instantiate the model. The line tf.reset_default_graph() resets the graph for the Jupyter notebook, so multiple models aren't floating around. If you have trouble with redefinition of variables, it may be worth re-running the cell below. "
   ]
  },
  {
   "cell_type": "code",
   "execution_count": 6,
   "metadata": {
    "collapsed": true
   },
   "outputs": [],
   "source": [
    "# We can create our model,\n",
    "# with parameters of our choosing.\n",
    "\n",
    "tf.reset_default_graph() # This is so that when you debug, you reset the graph each time you run this, in essence, cleaning the board\n",
    "model = LanguageModel(input_length=input_length, vocab_size=vocab_size, rnn_size=256, learning_rate=1e-3)"
   ]
  },
  {
   "cell_type": "markdown",
   "metadata": {},
   "source": [
    "# Training the model"
   ]
  },
  {
   "cell_type": "markdown",
   "metadata": {},
   "source": [
    "Your objective is to train the Language on the dataset you are provided to reach a **validation loss <= 5.50**\n",
    "\n",
    "**DONE**: Train your model so that it achieves a validation loss of <= 5.5. \n",
    "\n",
    "**Careful**: we will be testing this loss on an unreleased test set, so make sure to evaluate properly on a validation set and not overfit. You must save the model you want us to test under: models/final_language_model (the .index, .meta and .data files)\n",
    "\n",
    "**Advice**:\n",
    "- It should be possible to attain loss <= 5.50 with a 1-layer LSTM of size 256 or less.\n",
    "- You should not need more than 10 epochs to attain the threshold. More passes over the data can however give you a better model.\n",
    "- You can however try using:\n",
    "    - LSTM dropout (Tensorflow has a layer for that)\n",
    "    - Multi-layer RNN cell (Tensorflow has a layer for that)\n",
    "    - Change your optimizers, tune your learning_rate, use a learning rate schedule.\n",
    "    \n",
    "**Extra credit**:\n",
    "\n",
    "Get the loss below **validation loss <= 5.00** and get 5 points of extra-credit on this assignment. Get creative,\n",
    "\n",
    "but remember, what you do should work on our held-out test set to get the points."
   ]
  },
  {
   "cell_type": "code",
   "execution_count": 16,
   "metadata": {
    "collapsed": false
   },
   "outputs": [
    {
     "name": "stdout",
     "output_type": "stream",
     "text": [
      "start-session\n",
      "-----Epoch: 0\n",
      "Iteration:  0 ----  Train Loss: 9.210 ----  Validation Loss: [9.209278]\n",
      "Iteration:  128 ----  Train Loss: 6.872 ----  Validation Loss: [6.985641]\n",
      "Iteration:  256 ----  Train Loss: 6.821 ----  Validation Loss: [6.885563]\n",
      "Iteration:  384 ----  Train Loss: 7.046 ----  Validation Loss: [6.795422]\n",
      "Iteration:  512 ----  Train Loss: 6.450 ----  Validation Loss: [6.6710906]\n",
      "Iteration:  640 ----  Train Loss: 6.263 ----  Validation Loss: [6.584905]\n",
      "Iteration:  768 ----  Train Loss: 6.436 ----  Validation Loss: [6.527496]\n",
      "Iteration:  896 ----  Train Loss: 6.443 ----  Validation Loss: [6.449107]\n",
      "Iteration:  1024 ----  Train Loss: 6.417 ----  Validation Loss: [6.3877473]\n",
      "Iteration:  1152 ----  Train Loss: 6.225 ----  Validation Loss: [6.33666]\n",
      "Iteration:  1280 ----  Train Loss: 6.402 ----  Validation Loss: [6.2913322]\n",
      "Iteration:  1408 ----  Train Loss: 6.191 ----  Validation Loss: [6.2489696]\n",
      "Iteration:  1536 ----  Train Loss: 5.959 ----  Validation Loss: [6.2083993]\n",
      "Iteration:  1664 ----  Train Loss: 5.881 ----  Validation Loss: [6.1680684]\n",
      "Iteration:  1792 ----  Train Loss: 6.090 ----  Validation Loss: [6.1282525]\n",
      "Iteration:  1920 ----  Train Loss: 5.982 ----  Validation Loss: [6.095076]\n",
      "Iteration:  2048 ----  Train Loss: 6.083 ----  Validation Loss: [6.059074]\n",
      "Iteration:  2176 ----  Train Loss: 5.677 ----  Validation Loss: [6.027284]\n",
      "Iteration:  2304 ----  Train Loss: 5.871 ----  Validation Loss: [5.9932046]\n",
      "Iteration:  2432 ----  Train Loss: 5.715 ----  Validation Loss: [5.953441]\n",
      "Iteration:  2560 ----  Train Loss: 5.865 ----  Validation Loss: [5.9281864]\n",
      "Iteration:  2688 ----  Train Loss: 5.641 ----  Validation Loss: [5.8888206]\n",
      "-----Epoch: 1\n",
      "Iteration:  0 ----  Train Loss: 5.734 ----  Validation Loss: [5.875377]\n",
      "Iteration:  128 ----  Train Loss: 5.652 ----  Validation Loss: [5.840516]\n",
      "Iteration:  256 ----  Train Loss: 5.517 ----  Validation Loss: [5.807128]\n",
      "Iteration:  384 ----  Train Loss: 5.721 ----  Validation Loss: [5.7786818]\n",
      "Iteration:  512 ----  Train Loss: 5.410 ----  Validation Loss: [5.7603307]\n",
      "Iteration:  640 ----  Train Loss: 5.288 ----  Validation Loss: [5.7384944]\n",
      "Iteration:  768 ----  Train Loss: 5.604 ----  Validation Loss: [5.716685]\n",
      "Iteration:  896 ----  Train Loss: 5.623 ----  Validation Loss: [5.693404]\n",
      "Iteration:  1024 ----  Train Loss: 5.427 ----  Validation Loss: [5.6691904]\n",
      "Iteration:  1152 ----  Train Loss: 5.520 ----  Validation Loss: [5.6572003]\n",
      "Iteration:  1280 ----  Train Loss: 5.508 ----  Validation Loss: [5.6277375]\n",
      "Iteration:  1408 ----  Train Loss: 5.345 ----  Validation Loss: [5.604773]\n",
      "Iteration:  1536 ----  Train Loss: 5.568 ----  Validation Loss: [5.602001]\n",
      "Iteration:  1664 ----  Train Loss: 5.404 ----  Validation Loss: [5.580577]\n",
      "Iteration:  1792 ----  Train Loss: 5.393 ----  Validation Loss: [5.5649853]\n",
      "Iteration:  1920 ----  Train Loss: 5.327 ----  Validation Loss: [5.547705]\n",
      "Iteration:  2048 ----  Train Loss: 5.320 ----  Validation Loss: [5.538653]\n",
      "Iteration:  2176 ----  Train Loss: 5.507 ----  Validation Loss: [5.5266275]\n",
      "Iteration:  2304 ----  Train Loss: 5.155 ----  Validation Loss: [5.5100203]\n",
      "Iteration:  2432 ----  Train Loss: 5.446 ----  Validation Loss: [5.5127144]\n",
      "Iteration:  2560 ----  Train Loss: 4.811 ----  Validation Loss: [5.489747]\n",
      "Iteration:  2688 ----  Train Loss: 5.058 ----  Validation Loss: [5.4926033]\n",
      "-----Epoch: 2\n",
      "Iteration:  0 ----  Train Loss: 5.071 ----  Validation Loss: [5.4973984]\n",
      "Iteration:  128 ----  Train Loss: 4.915 ----  Validation Loss: [5.4792185]\n",
      "Iteration:  256 ----  Train Loss: 4.950 ----  Validation Loss: [5.47625]\n",
      "Iteration:  384 ----  Train Loss: 5.177 ----  Validation Loss: [5.4662833]\n",
      "Iteration:  512 ----  Train Loss: 4.879 ----  Validation Loss: [5.4537725]\n",
      "Iteration:  640 ----  Train Loss: 5.014 ----  Validation Loss: [5.451911]\n",
      "Iteration:  768 ----  Train Loss: 4.833 ----  Validation Loss: [5.436841]\n",
      "Iteration:  896 ----  Train Loss: 4.909 ----  Validation Loss: [5.427214]\n",
      "Iteration:  1024 ----  Train Loss: 5.051 ----  Validation Loss: [5.424935]\n",
      "Iteration:  1152 ----  Train Loss: 4.742 ----  Validation Loss: [5.410071]\n",
      "Iteration:  1280 ----  Train Loss: 5.328 ----  Validation Loss: [5.405807]\n",
      "Iteration:  1408 ----  Train Loss: 4.903 ----  Validation Loss: [5.4015703]\n",
      "Iteration:  1536 ----  Train Loss: 4.866 ----  Validation Loss: [5.397583]\n",
      "Iteration:  1664 ----  Train Loss: 4.646 ----  Validation Loss: [5.3867154]\n",
      "Iteration:  1792 ----  Train Loss: 4.909 ----  Validation Loss: [5.3788056]\n",
      "Iteration:  1920 ----  Train Loss: 4.638 ----  Validation Loss: [5.368798]\n",
      "Iteration:  2048 ----  Train Loss: 5.010 ----  Validation Loss: [5.357848]\n",
      "Iteration:  2176 ----  Train Loss: 5.048 ----  Validation Loss: [5.354792]\n",
      "Iteration:  2304 ----  Train Loss: 5.008 ----  Validation Loss: [5.3589363]\n",
      "Iteration:  2432 ----  Train Loss: 4.534 ----  Validation Loss: [5.357501]\n",
      "Iteration:  2560 ----  Train Loss: 4.658 ----  Validation Loss: [5.3551683]\n",
      "Iteration:  2688 ----  Train Loss: 4.967 ----  Validation Loss: [5.351782]\n",
      "-----Epoch: 3\n",
      "Iteration:  0 ----  Train Loss: 4.994 ----  Validation Loss: [5.3474097]\n",
      "Iteration:  128 ----  Train Loss: 4.717 ----  Validation Loss: [5.3358793]\n",
      "Iteration:  256 ----  Train Loss: 5.046 ----  Validation Loss: [5.339516]\n",
      "Iteration:  384 ----  Train Loss: 4.669 ----  Validation Loss: [5.3413215]\n",
      "Iteration:  512 ----  Train Loss: 4.702 ----  Validation Loss: [5.3352976]\n",
      "Iteration:  640 ----  Train Loss: 4.685 ----  Validation Loss: [5.3231707]\n",
      "Iteration:  768 ----  Train Loss: 4.654 ----  Validation Loss: [5.32589]\n",
      "Iteration:  896 ----  Train Loss: 4.652 ----  Validation Loss: [5.326409]\n",
      "Iteration:  1024 ----  Train Loss: 4.503 ----  Validation Loss: [5.3247347]\n",
      "Iteration:  1152 ----  Train Loss: 4.740 ----  Validation Loss: [5.322557]\n",
      "Iteration:  1280 ----  Train Loss: 4.827 ----  Validation Loss: [5.330068]\n",
      "Iteration:  1408 ----  Train Loss: 4.888 ----  Validation Loss: [5.3356614]\n",
      "Iteration:  1536 ----  Train Loss: 4.728 ----  Validation Loss: [5.333874]\n",
      "Iteration:  1664 ----  Train Loss: 4.975 ----  Validation Loss: [5.3255296]\n",
      "Iteration:  1792 ----  Train Loss: 4.497 ----  Validation Loss: [5.3259683]\n",
      "Iteration:  1920 ----  Train Loss: 4.556 ----  Validation Loss: [5.3282347]\n",
      "Iteration:  2048 ----  Train Loss: 4.441 ----  Validation Loss: [5.3256226]\n",
      "Iteration:  2176 ----  Train Loss: 4.522 ----  Validation Loss: [5.3248243]\n",
      "Iteration:  2304 ----  Train Loss: 4.295 ----  Validation Loss: [5.3126526]\n",
      "Iteration:  2432 ----  Train Loss: 4.475 ----  Validation Loss: [5.307606]\n",
      "Iteration:  2560 ----  Train Loss: 4.546 ----  Validation Loss: [5.3101563]\n",
      "Iteration:  2688 ----  Train Loss: 4.665 ----  Validation Loss: [5.306288]\n",
      "-----Epoch: 4\n",
      "Iteration:  0 ----  Train Loss: 4.582 ----  Validation Loss: [5.3088355]\n",
      "Iteration:  128 ----  Train Loss: 4.700 ----  Validation Loss: [5.3202877]\n",
      "Iteration:  256 ----  Train Loss: 4.393 ----  Validation Loss: [5.3224034]\n",
      "Iteration:  384 ----  Train Loss: 4.467 ----  Validation Loss: [5.3087854]\n",
      "Iteration:  512 ----  Train Loss: 4.397 ----  Validation Loss: [5.3071175]\n",
      "Iteration:  640 ----  Train Loss: 4.504 ----  Validation Loss: [5.313072]\n",
      "Iteration:  768 ----  Train Loss: 4.566 ----  Validation Loss: [5.304032]\n",
      "Iteration:  896 ----  Train Loss: 4.538 ----  Validation Loss: [5.307812]\n",
      "Iteration:  1024 ----  Train Loss: 4.456 ----  Validation Loss: [5.30583]\n",
      "Iteration:  1152 ----  Train Loss: 4.586 ----  Validation Loss: [5.3101096]\n",
      "Iteration:  1280 ----  Train Loss: 4.431 ----  Validation Loss: [5.3050065]\n",
      "Iteration:  1408 ----  Train Loss: 4.620 ----  Validation Loss: [5.303213]\n",
      "Iteration:  1536 ----  Train Loss: 4.163 ----  Validation Loss: [5.302017]\n",
      "Iteration:  1664 ----  Train Loss: 4.313 ----  Validation Loss: [5.2949214]\n",
      "Iteration:  1792 ----  Train Loss: 4.528 ----  Validation Loss: [5.306319]\n",
      "Iteration:  1920 ----  Train Loss: 4.404 ----  Validation Loss: [5.3007855]\n",
      "Iteration:  2048 ----  Train Loss: 4.404 ----  Validation Loss: [5.306367]\n",
      "Iteration:  2176 ----  Train Loss: 4.612 ----  Validation Loss: [5.311415]\n",
      "Iteration:  2304 ----  Train Loss: 4.532 ----  Validation Loss: [5.3130918]\n",
      "Iteration:  2432 ----  Train Loss: 4.470 ----  Validation Loss: [5.309681]\n",
      "Iteration:  2560 ----  Train Loss: 4.557 ----  Validation Loss: [5.314883]\n",
      "Iteration:  2688 ----  Train Loss: 4.747 ----  Validation Loss: [5.31447]\n",
      "INFO:tensorflow:Restoring parameters from models/magic_model\n"
     ]
    }
   ],
   "source": [
    "# Skeleton code\n",
    "# You have to write your own training process to obtain a\n",
    "# Good performing model on the validation set, and save it.\n",
    "\n",
    "experiment = root_folder+\"models/magic_model\"\n",
    "no_epochs=5\n",
    "batch_size = 32\n",
    "no_batches=len(d_train)//batch_size\n",
    "val_size=len(d_valid)\n",
    "tfe = contrib.eager #Helper functions to calculate statistics\n",
    "\n",
    "with tf.Session() as sess:\n",
    "    print(\"start-session\")\n",
    "    \n",
    "    # Here is how you initialize weights of the model according to their\n",
    "    # Initialization parameters.\n",
    "    sess.run(tf.global_variables_initializer())\n",
    "    \n",
    "    # Get validation data\n",
    "    val_input, val_target, val_mask = build_batch(d_valid, val_size)\n",
    "    \n",
    "    \n",
    "    for e in range(no_epochs):\n",
    "        print(\"-----Epoch: {}\".format(e))\n",
    "        \n",
    "        for b in range(no_batches):\n",
    "        \n",
    "    \n",
    "            # Obtain a batch:\n",
    "            batch_input, batch_target, batch_target_mask = build_batch(d_train, batch_size)\n",
    "            # Map the values to each tensor in a `feed_dict`\n",
    "            feed = {model.input_num: batch_input, model.targets: batch_target, model.targets_mask: batch_target_mask}\n",
    "\n",
    "    # Obtain a single value of the loss for that batch.\n",
    "    # !IMPORTANT! Don't forget to include the train_op to when using a batch from the training dataset\n",
    "    # (d_train)\n",
    "    # !MORE IMPORTANT! Don't use the train_op if you evaluate the loss on the validation set,\n",
    "    # Otherwise, your network will overfit on your validation dataset.\n",
    "    \n",
    "            # Training Step\n",
    "            step, train_loss, _ = sess.run([model.global_step, model.loss, model.train_op], feed_dict=feed)\n",
    "            \n",
    "            if b%128==0:\n",
    "                feed_val = {model.input_num: val_input, model.targets: val_target, model.targets_mask: val_mask}\n",
    "                val_loss= sess.run([model.loss], feed_dict=feed_val)\n",
    "                print(\"Iteration:  {} ----  Train Loss: {:.3f} ----  Validation Loss: {}\".format(b,train_loss,val_loss))\n",
    "    \n",
    "    # Here is how you save the model weights\n",
    "    model.saver.save(sess, experiment)\n",
    "    \n",
    "    # Here is how you restore the weights previously saved\n",
    "    model.saver.restore(sess, experiment)"
   ]
  },
  {
   "cell_type": "markdown",
   "metadata": {},
   "source": [
    "# Using the language model"
   ]
  },
  {
   "cell_type": "markdown",
   "metadata": {},
   "source": [
    "Congratulations, you have now trained a language model! We can now use it to evaluate likely news headlines, as well as generate our very own headlines.\n",
    "\n",
    "**TODO**: Complete the three parts below, using the model you have trained."
   ]
  },
  {
   "cell_type": "markdown",
   "metadata": {},
   "source": [
    "## (1) Evaluation loss\n",
    "\n",
    "To evaluate the language model, we evaluate its loss (ability to predict) on unseen data that is reserved for evaluation.\n",
    "Your first evaluation is to load the model you trained, and obtain a test loss."
   ]
  },
  {
   "cell_type": "code",
   "execution_count": 7,
   "metadata": {
    "collapsed": true
   },
   "outputs": [],
   "source": [
    "# Your best performing model should go here.\n",
    "model_file = root_folder+\"models/final_language_model\""
   ]
  },
  {
   "cell_type": "code",
   "execution_count": 8,
   "metadata": {
    "collapsed": false
   },
   "outputs": [
    {
     "name": "stdout",
     "output_type": "stream",
     "text": [
      "INFO:tensorflow:Restoring parameters from models/final_language_model\n",
      "Evaluation set loss: [5.3038845]\n"
     ]
    }
   ],
   "source": [
    "# We will evaluate your model in the model_file above\n",
    "# In a very similar way as the code below.\n",
    "# Make sure your validation loss is befow the threshold we specified\n",
    "# and that you didn't train using the validation set, as you would\n",
    "# get penalized.\n",
    "\n",
    "with tf.Session() as sess:\n",
    "    model.saver.restore(sess, model_file)\n",
    "    eval_input, eval_target, eval_target_mask = build_batch(d_valid, 500)\n",
    "    feed = {model.input_num: eval_input, model.targets: eval_target, model.targets_mask: eval_target_mask}\n",
    "    eval_loss = sess.run([model.loss], feed_dict=feed)\n",
    "    print(\"Evaluation set loss:\", eval_loss)"
   ]
  },
  {
   "cell_type": "markdown",
   "metadata": {},
   "source": [
    "## (2) Evaluation of likelihood of data\n",
    "\n",
    "One use of a language model is to see what data is more likely to have originated from the training data. Because we have trained our model on news headlines, we can see which of these headlines is more likely:\n",
    "\n",
    "``Apple to release another iPhone in September``\n",
    "\n",
    "\n",
    " ``Apple and Samsung resolve all lawsuits amicably``\n",
    " \n",
    "**DONE**: Use the model to obtain the loss the neural network assigns to each sentence.\n",
    "Because the neural network assigns probability to the words appearing in a sequence, this loss can be used as a proxy to measure how likely the sentence is to have occurred in the dataset.\n",
    "Once you have the loss for each headline, write down which sentence was judged to be more likely, and explain why/if you think this is coherent.\n",
    "\n",
    "**Your answer:**\n"
   ]
  },
  {
   "cell_type": "code",
   "execution_count": 14,
   "metadata": {
    "collapsed": false
   },
   "outputs": [
    {
     "name": "stdout",
     "output_type": "stream",
     "text": [
      "INFO:tensorflow:Restoring parameters from models/magic_model\n",
      "----------------------------------------\n",
      "Headline: apple to release new iphone in july\n",
      "Loss of the headline: [3.4311235]\n",
      "----------------------------------------\n",
      "Headline: apple and samsung resolve all lawsuits\n",
      "Loss of the headline: [5.0730677]\n"
     ]
    }
   ],
   "source": [
    "headline1 = \"Apple to release new iPhone in July\"\n",
    "headline2 = \"Apple and Samsung resolve all lawsuits\"\n",
    "\n",
    "headlines = [headline1, headline2]\n",
    "\n",
    "input_length = 20\n",
    "unkI, padI, startI = w2i['UNK'], w2i['PAD'], w2i['<START>']\n",
    "\n",
    "\n",
    "with tf.Session() as sess:\n",
    "    model.saver.restore(sess, model_file)\n",
    "\n",
    "    for headline in headlines:\n",
    "        headline = headline.lower() # Our LSTM is trained on lower-cased headlines\n",
    "    \n",
    "        # From the code in the Preprocessing section at the end of the notebook\n",
    "        # Find out how to tokenize the headline\n",
    "        tokenized = tokenizer.word_tokenizer(headline.lower())\n",
    "        \n",
    "        # Find out how to numerize the tokenized headline\n",
    "        numerized = numerize_sequence(tokenized)\n",
    "\n",
    "        # Learn how to pad and obtain the mask of the sequence.\n",
    "        output_h, mask = pad_sequence(numerized, padI, input_length)\n",
    "        \n",
    "        #Create input by adding <START> token = 0 to the beginning \n",
    "        input_h=[0]+output_h[:-1]\n",
    "        \n",
    "        # Adjust Dimension\n",
    "        output_h=[output_h]\n",
    "        mask=[mask]\n",
    "        input_h=[input_h]\n",
    "        \n",
    "        # Obtain the loss of the sequence, and print it\n",
    "        feed = {model.input_num: input_h, model.targets: output_h, model.targets_mask: mask}\n",
    "        \n",
    "        loss = sess.run([model.loss], feed_dict=feed)\n",
    "        print(\"----------------------------------------\")\n",
    "        print(\"Headline:\",headline)\n",
    "        print(\"Loss of the headline:\", loss)\n",
    "\n",
    "# Important check: one headline should be more likely (and have lower loss)\n",
    "# Than the other headline. You should know which headline should have lower loss."
   ]
  },
  {
   "cell_type": "markdown",
   "metadata": {},
   "source": [
    "The first headline 'apple to release new iphone in july' has a lower loss therefore it is more likely in this language model (higher probability it comes from the same language distribution). "
   ]
  },
  {
   "cell_type": "markdown",
   "metadata": {},
   "source": [
    "## (3) Generation of headlines\n",
    "\n",
    "We can use our language model to generate text according to the distribution of our training data.\n",
    "The way generation works is the following:\n",
    "\n",
    "We seed the model with a beginning of sequence, and obtain the distribution for the next word.\n",
    "We select the most likely word (argmax) and add it to our sequence of words.\n",
    "Now our sequence is one word longer, and we can feed it in again as an input, for the network to produce the next sentence.\n",
    "We do this a fixed number of times (up to 20 words), and obtain automatically generated headlines!\n"
   ]
  },
  {
   "cell_type": "markdown",
   "metadata": {},
   "source": [
    "We have provided a few headline starters that should produce interesting generated headlines.\n",
    "\n",
    "**TODO:** Get creative and find at least 2 more headline_starters that produce interesting headlines."
   ]
  },
  {
   "cell_type": "code",
   "execution_count": 20,
   "metadata": {
    "collapsed": false
   },
   "outputs": [
    {
     "name": "stdout",
     "output_type": "stream",
     "text": [
      "INFO:tensorflow:Restoring parameters from models/magic_model\n",
      "===================\n",
      "Generating headline starting with: apple has released\n",
      "<START> apple has released a ? ? of its new iphone x and ipad pro screen and ipad mini '\n",
      "===================\n",
      "Generating headline starting with: google has released\n",
      "<START> google has released a ? ? of its new ? ? ? ? ? ? ? ? ? ?\n",
      "===================\n",
      "Generating headline starting with: amazon\n",
      "<START> amazon is reportedly planning a ? ? to the ? ? ? ? ? ? ? ? ? ?\n",
      "===================\n",
      "Generating headline starting with: tesla to\n",
      "<START> tesla to buy apple's $ ? billion in cash hoard to buy its $ ? billion in cash hoard\n",
      "===================\n",
      "Generating headline starting with: apple watch\n",
      "<START> apple watch : what to expect from the iphone 7 plus ? the best iphone 7 plus thin than\n",
      "===================\n",
      "Generating headline starting with: free shipping items\n",
      "<START> free shipping items to be ? by apple , google , others , ? , ? , ? ,\n"
     ]
    }
   ],
   "source": [
    "with tf.Session() as sess:\n",
    "    model.saver.restore(sess, model_file)\n",
    "\n",
    "    # Here are some headline starters.\n",
    "    # They're all about tech companies, because\n",
    "    # That is what is in our dataset\n",
    "    headline_starters = [\"apple has released\", \"google has released\", \"amazon\", \"tesla to\",\"apple watch\",\"free shipping items\"]\n",
    "    \n",
    "    for headline_starter in headline_starters:\n",
    "        print(\"===================\")\n",
    "        print(\"Generating headline starting with: \"+headline_starter)\n",
    "\n",
    "        # Tokenize and numerize the headline. Put the numerized headline\n",
    "        # beginning in `current_build`\n",
    "        tokenized = tokenizer.word_tokenizer(headline_starter.lower())\n",
    "        current_build = [startI] + numerize_sequence(tokenized)\n",
    "\n",
    "        while len(current_build) < input_length:\n",
    "            # Pad the current_build into a input_length vector.\n",
    "            # We do this so that it can be processed by our LanguageModel class\n",
    "            current_padded = current_build[:input_length] + [padI] * (input_length - len(current_build))\n",
    "            current_padded = np.array([current_padded])\n",
    "\n",
    "            # Obtain the logits for the current padded sequence\n",
    "            # This involves obtaining the output_logits from our model,\n",
    "            # and not the loss like we have done so far\n",
    "            feed = {model.input_num: current_padded}\n",
    "            logits = sess.run(model.output_logits, feed_dict=feed)\n",
    "\n",
    "            # Obtain the row of logits that interest us, the logits for the last non-pad\n",
    "            # inputs\n",
    "    \n",
    "            last_logits = logits[0][len(current_build)-1]\n",
    "            \n",
    "            # Find the highest scoring word in the last_logits\n",
    "            # array. The np.argmax function should be useful.\n",
    "            # Append this word to our current build\n",
    "            #word=list(w2i.keys())[list(w2i.values()).index(i)]\n",
    "            \n",
    "            highest_i=np.argmax(last_logits)\n",
    "            \n",
    "            current_build.append(highest_i)\n",
    "        \n",
    "        # Go from the current_build of word_indices\n",
    "        # To the headline (string) produced. This should involve\n",
    "        # the vocabulary, and a string merger.\n",
    "        \n",
    "        produced_sentence = numerized2text(current_build)\n",
    "        print(produced_sentence)"
   ]
  },
  {
   "cell_type": "markdown",
   "metadata": {},
   "source": [
    "## All done\n",
    "\n",
    "You are done with the first part of the HW.\n",
    "\n",
    "Next notebook deals with Summarization of text!\n"
   ]
  },
  {
   "cell_type": "markdown",
   "metadata": {
    "heading_collapsed": true
   },
   "source": [
    "# Preprocessing (read only)\n"
   ]
  },
  {
   "cell_type": "markdown",
   "metadata": {
    "hidden": true
   },
   "source": [
    "**You can skip this section, however you may find these functions useful later in the assignment**\n",
    "\n",
    "We have provided this code so you see how the dataset was generated. You will have to come back some of these functions later in the assignment, so feel free to read through, to get familiar."
   ]
  },
  {
   "cell_type": "code",
   "execution_count": 12,
   "metadata": {
    "collapsed": true,
    "hidden": true
   },
   "outputs": [],
   "source": [
    "def numerize_sequence(tokenized):\n",
    "    return [w2i.get(w, unkI) for w in tokenized]\n",
    "def pad_sequence(numerized, pad_index, to_length):\n",
    "    pad = numerized[:to_length]\n",
    "    padded = pad + [pad_index] * (to_length - len(pad))\n",
    "    mask = [w != pad_index for w in padded]\n",
    "    return padded, mask"
   ]
  },
  {
   "cell_type": "code",
   "execution_count": null,
   "metadata": {
    "collapsed": true,
    "hidden": true
   },
   "outputs": [],
   "source": [
    "# You do not need to run this\n",
    "# This is to show you how the dataset was created\n",
    "# You should read to understand, so you can preprocess text\n",
    "# In the same way, in the evaluation section\n",
    "\n",
    "for a in dataset:\n",
    "    a['tokenized'] = tokenizer.word_tokenizer(a['title'].lower())"
   ]
  },
  {
   "cell_type": "code",
   "execution_count": null,
   "metadata": {
    "collapsed": true,
    "hidden": true,
    "scrolled": true
   },
   "outputs": [],
   "source": [
    "# You do not need to run this\n",
    "# This is to show you how the dataset was created\n",
    "# You should read to understand, so you can preprocess text\n",
    "# In the same way, in the evaluation section\n",
    "\n",
    "word_counts = Counter()\n",
    "for a in dataset:\n",
    "    word_counts.update(a['tokenized'])\n",
    "\n",
    "print(word_counts.most_common(30))"
   ]
  },
  {
   "cell_type": "code",
   "execution_count": null,
   "metadata": {
    "collapsed": true,
    "hidden": true
   },
   "outputs": [],
   "source": [
    "# You do not need to run this\n",
    "# This is to show you how the dataset was created\n",
    "# You should read to understand, so you can preprocess text\n",
    "# In the same way, in the evaluation section\n",
    "\n",
    "# Creating the vocab\n",
    "vocab_size = 20000\n",
    "special_words = [\"<START>\", \"UNK\", \"PAD\"]\n",
    "vocabulary = special_words + [w for w, c in word_counts.most_common(vocab_size-len(special_words))]\n",
    "w2i = {w: i for i, w in enumerate(vocabulary)}\n",
    "\n",
    "# Numerizing and padding\n",
    "input_length = 20\n",
    "unkI, padI, startI = w2i['UNK'], w2i['PAD'], w2i['<START>']\n",
    "\n",
    "for a in dataset:\n",
    "    a['numerized'] = numerize_sequence(a['tokenized']) # Change words to IDs\n",
    "    a['numerized'], a['mask'] = pad_sequence(a['numerized'], padI, input_length) # Append appropriate PAD tokens\n",
    "    \n",
    "# Compute fraction of words that are UNK:\n",
    "word_counters = Counter([w for a in dataset for w in a['input'] if w != padI])\n",
    "\n",
    "print(\"Fraction of UNK words:\", float(word_counters[unkI]) / sum(word_counters.values()))"
   ]
  },
  {
   "cell_type": "code",
   "execution_count": null,
   "metadata": {
    "collapsed": true,
    "hidden": true
   },
   "outputs": [],
   "source": [
    "# You do not need to run this\n",
    "# This is to show you how the dataset was created\n",
    "# You should read to understand, so you can preprocess text\n",
    "# In the same way, in the evaluation section\n",
    "\n",
    "d_released_processed   = [d for d in dataset if d['cut'] != 'testing']\n",
    "d_unreleased_processed = [d for d in dataset if d['cut'] == 'testing']\n",
    "\n",
    "with open(\"dataset/headline_generation_dataset_processed.json\", \"w\") as f:\n",
    "    json.dump(d_released_processed, f)\n",
    "\n",
    "# This file is purposefully left out of the assignment, we will use it to evaluate your model.\n",
    "with open(\"dataset/headline_generation_dataset_unreleased_processed.json\", \"w\") as f:\n",
    "    json.dump(d_unreleased_processed, f)\n",
    "    \n",
    "with open(\"dataset/headline_generation_vocabulary.txt\", \"w\") as f:\n",
    "    f.write(\"\\n\".join(vocabulary).encode('utf8'))"
   ]
  }
 ],
 "metadata": {
  "anaconda-cloud": {},
  "kernelspec": {
   "display_name": "Python 3",
   "language": "python",
   "name": "python3"
  },
  "language_info": {
   "codemirror_mode": {
    "name": "ipython",
    "version": 3
   },
   "file_extension": ".py",
   "mimetype": "text/x-python",
   "name": "python",
   "nbconvert_exporter": "python",
   "pygments_lexer": "ipython3",
   "version": "3.6.8"
  },
  "varInspector": {
   "cols": {
    "lenName": 16,
    "lenType": 16,
    "lenVar": 40
   },
   "kernels_config": {
    "python": {
     "delete_cmd_postfix": "",
     "delete_cmd_prefix": "del ",
     "library": "var_list.py",
     "varRefreshCmd": "print(var_dic_list())"
    },
    "r": {
     "delete_cmd_postfix": ") ",
     "delete_cmd_prefix": "rm(",
     "library": "var_list.r",
     "varRefreshCmd": "cat(var_dic_list()) "
    }
   },
   "types_to_exclude": [
    "module",
    "function",
    "builtin_function_or_method",
    "instance",
    "_Feature"
   ],
   "window_display": false
  }
 },
 "nbformat": 4,
 "nbformat_minor": 1
}
